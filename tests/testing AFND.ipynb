{
 "cells": [
  {
   "cell_type": "code",
   "execution_count": 5,
   "metadata": {
    "collapsed": true,
    "jupyter": {
     "outputs_hidden": true
    }
   },
   "outputs": [],
   "source": [
    "import networkx as nx\n",
    "from automatos.naoDeterministicos.AFND import automato"
   ]
  },
  {
   "cell_type": "code",
   "execution_count": 9,
   "outputs": [],
   "source": [
    "a = automato()"
   ],
   "metadata": {
    "collapsed": false,
    "pycharm": {
     "name": "#%%\n"
    }
   }
  },
  {
   "cell_type": "code",
   "execution_count": 10,
   "outputs": [],
   "source": [
    "a.add_state('q0')\n",
    "a.add_state('q1')\n",
    "\n",
    "a.add_initial_state('q0')\n",
    "a.final_state(['q0'])"
   ],
   "metadata": {
    "collapsed": false,
    "pycharm": {
     "name": "#%%\n"
    }
   }
  },
  {
   "cell_type": "code",
   "execution_count": 12,
   "outputs": [
    {
     "name": "stdout",
     "output_type": "stream",
     "text": [
      "this symbol is not in alphabet, add\n"
     ]
    },
    {
     "ename": "KeyError",
     "evalue": "'1'",
     "output_type": "error",
     "traceback": [
      "\u001B[0;31m---------------------------------------------------------------------------\u001B[0m",
      "\u001B[0;31mKeyError\u001B[0m                                  Traceback (most recent call last)",
      "\u001B[0;32m<ipython-input-12-4ada9f44df14>\u001B[0m in \u001B[0;36m<module>\u001B[0;34m\u001B[0m\n\u001B[1;32m      4\u001B[0m \u001B[0ma\u001B[0m\u001B[0;34m.\u001B[0m\u001B[0madd_transition\u001B[0m\u001B[0;34m(\u001B[0m\u001B[0;34m'q0'\u001B[0m\u001B[0;34m,\u001B[0m \u001B[0;34m'q0'\u001B[0m\u001B[0;34m,\u001B[0m \u001B[0;34m'E'\u001B[0m\u001B[0;34m)\u001B[0m\u001B[0;34m\u001B[0m\u001B[0;34m\u001B[0m\u001B[0m\n\u001B[1;32m      5\u001B[0m \u001B[0ma\u001B[0m\u001B[0;34m.\u001B[0m\u001B[0madd_transition\u001B[0m\u001B[0;34m(\u001B[0m\u001B[0;34m'q0'\u001B[0m\u001B[0;34m,\u001B[0m \u001B[0;34m'q0'\u001B[0m\u001B[0;34m,\u001B[0m \u001B[0;34m'0'\u001B[0m\u001B[0;34m)\u001B[0m\u001B[0;34m\u001B[0m\u001B[0;34m\u001B[0m\u001B[0m\n\u001B[0;32m----> 6\u001B[0;31m \u001B[0ma\u001B[0m\u001B[0;34m.\u001B[0m\u001B[0madd_transition\u001B[0m\u001B[0;34m(\u001B[0m\u001B[0;34m'q0'\u001B[0m\u001B[0;34m,\u001B[0m \u001B[0;34m'q0'\u001B[0m\u001B[0;34m,\u001B[0m \u001B[0;34m'1'\u001B[0m\u001B[0;34m)\u001B[0m\u001B[0;34m\u001B[0m\u001B[0;34m\u001B[0m\u001B[0m\n\u001B[0m\u001B[1;32m      7\u001B[0m \u001B[0ma\u001B[0m\u001B[0;34m.\u001B[0m\u001B[0madd_transition\u001B[0m\u001B[0;34m(\u001B[0m\u001B[0;34m'q0'\u001B[0m\u001B[0;34m,\u001B[0m \u001B[0;34m'q1'\u001B[0m\u001B[0;34m,\u001B[0m \u001B[0;34m'1'\u001B[0m\u001B[0;34m)\u001B[0m\u001B[0;34m\u001B[0m\u001B[0;34m\u001B[0m\u001B[0m\n\u001B[1;32m      8\u001B[0m \u001B[0ma\u001B[0m\u001B[0;34m.\u001B[0m\u001B[0madd_transition\u001B[0m\u001B[0;34m(\u001B[0m\u001B[0;34m'q1'\u001B[0m\u001B[0;34m,\u001B[0m \u001B[0;34m'q0'\u001B[0m\u001B[0;34m,\u001B[0m \u001B[0;34m'1'\u001B[0m\u001B[0;34m)\u001B[0m\u001B[0;34m\u001B[0m\u001B[0;34m\u001B[0m\u001B[0m\n",
      "\u001B[0;32m~/PycharmProjects/Automatos-Bioinformatica/automatos/naoDeterministicos/AFND.py\u001B[0m in \u001B[0;36madd_transition\u001B[0;34m(self, original_state, destine_state, symbol)\u001B[0m\n\u001B[1;32m     44\u001B[0m             \u001B[0;32mif\u001B[0m \u001B[0;34m'transition symbol'\u001B[0m \u001B[0;32min\u001B[0m \u001B[0mself\u001B[0m\u001B[0;34m.\u001B[0m\u001B[0mgraph\u001B[0m\u001B[0;34m.\u001B[0m\u001B[0medges\u001B[0m\u001B[0;34m[\u001B[0m\u001B[0moriginal_state\u001B[0m\u001B[0;34m,\u001B[0m \u001B[0mdestine_state\u001B[0m\u001B[0;34m]\u001B[0m\u001B[0;34m:\u001B[0m\u001B[0;34m\u001B[0m\u001B[0;34m\u001B[0m\u001B[0m\n\u001B[1;32m     45\u001B[0m                 \u001B[0mself\u001B[0m\u001B[0;34m.\u001B[0m\u001B[0mgraph\u001B[0m\u001B[0;34m.\u001B[0m\u001B[0medges\u001B[0m\u001B[0;34m[\u001B[0m\u001B[0moriginal_state\u001B[0m\u001B[0;34m,\u001B[0m \u001B[0mdestine_state\u001B[0m\u001B[0;34m]\u001B[0m\u001B[0;34m[\u001B[0m\u001B[0;34m'transition symbol'\u001B[0m\u001B[0;34m]\u001B[0m\u001B[0;34m.\u001B[0m\u001B[0mappend\u001B[0m\u001B[0;34m(\u001B[0m\u001B[0msymbol\u001B[0m\u001B[0;34m)\u001B[0m\u001B[0;34m\u001B[0m\u001B[0;34m\u001B[0m\u001B[0m\n\u001B[0;32m---> 46\u001B[0;31m                 \u001B[0mself\u001B[0m\u001B[0;34m.\u001B[0m\u001B[0mtransition_table\u001B[0m\u001B[0;34m[\u001B[0m\u001B[0moriginal_state\u001B[0m\u001B[0;34m]\u001B[0m\u001B[0;34m[\u001B[0m\u001B[0msymbol\u001B[0m\u001B[0;34m]\u001B[0m\u001B[0;34m.\u001B[0m\u001B[0mupdate\u001B[0m\u001B[0;34m(\u001B[0m\u001B[0;34m{\u001B[0m\u001B[0mdestine_state\u001B[0m\u001B[0;34m}\u001B[0m\u001B[0;34m)\u001B[0m\u001B[0;34m\u001B[0m\u001B[0;34m\u001B[0m\u001B[0m\n\u001B[0m\u001B[1;32m     47\u001B[0m             \u001B[0;32melse\u001B[0m\u001B[0;34m:\u001B[0m\u001B[0;34m\u001B[0m\u001B[0;34m\u001B[0m\u001B[0m\n\u001B[1;32m     48\u001B[0m                 \u001B[0mself\u001B[0m\u001B[0;34m.\u001B[0m\u001B[0mgraph\u001B[0m\u001B[0;34m.\u001B[0m\u001B[0medges\u001B[0m\u001B[0;34m[\u001B[0m\u001B[0moriginal_state\u001B[0m\u001B[0;34m,\u001B[0m \u001B[0mdestine_state\u001B[0m\u001B[0;34m]\u001B[0m\u001B[0;34m.\u001B[0m\u001B[0mupdate\u001B[0m\u001B[0;34m(\u001B[0m\u001B[0;34m{\u001B[0m\u001B[0;34m'transition symbol'\u001B[0m\u001B[0;34m:\u001B[0m \u001B[0;34m[\u001B[0m\u001B[0msymbol\u001B[0m\u001B[0;34m]\u001B[0m\u001B[0;34m}\u001B[0m\u001B[0;34m)\u001B[0m\u001B[0;34m\u001B[0m\u001B[0;34m\u001B[0m\u001B[0m\n",
      "\u001B[0;31mKeyError\u001B[0m: '1'"
     ]
    }
   ],
   "source": [
    "a.add_alphabet(['0', '1'])\n",
    "\n",
    "a.add_transition('q0', 'q0', 'E')\n",
    "a.add_transition('q0', 'q0', '0')\n",
    "a.add_transition('q0', 'q0', '1')\n",
    "a.add_transition('q0', 'q1', '1')\n",
    "a.add_transition('q1', 'q1', '0')\n",
    "a.add_transition('q1', 'q0', '1')\n",
    "a.add_transition('q1', 'q1', '0')"
   ],
   "metadata": {
    "collapsed": false,
    "pycharm": {
     "name": "#%%\n"
    }
   }
  },
  {
   "cell_type": "code",
   "execution_count": null,
   "outputs": [],
   "source": [
    "a.transition_table"
   ],
   "metadata": {
    "collapsed": false,
    "pycharm": {
     "name": "#%%\n"
    }
   }
  },
  {
   "cell_type": "code",
   "execution_count": null,
   "outputs": [],
   "source": [
    "a.graph.edges['q0', 'q1']"
   ],
   "metadata": {
    "collapsed": false,
    "pycharm": {
     "name": "#%%\n"
    }
   }
  },
  {
   "cell_type": "code",
   "execution_count": null,
   "outputs": [],
   "source": [
    "string = '011110'\n",
    "a.in_automato_language(string)\n",
    "print(\"aqe\")"
   ],
   "metadata": {
    "collapsed": false,
    "pycharm": {
     "name": "#%%\n"
    }
   }
  }
 ],
 "metadata": {
  "kernelspec": {
   "display_name": "Python 3",
   "language": "python",
   "name": "python3"
  },
  "language_info": {
   "codemirror_mode": {
    "name": "ipython",
    "version": 3
   },
   "file_extension": ".py",
   "mimetype": "text/x-python",
   "name": "python",
   "nbconvert_exporter": "python",
   "pygments_lexer": "ipython3",
   "version": "3.7.4"
  }
 },
 "nbformat": 4,
 "nbformat_minor": 4
}