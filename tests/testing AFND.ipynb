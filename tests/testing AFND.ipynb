{
 "cells": [
  {
   "cell_type": "code",
   "execution_count": 38,
   "metadata": {
    "collapsed": true,
    "jupyter": {
     "outputs_hidden": true
    }
   },
   "outputs": [],
   "source": [
    "import networkx as nx\n",
    "from automatos.naoDeterministicos.AFND import automato"
   ]
  },
  {
   "cell_type": "code",
   "execution_count": 39,
   "outputs": [],
   "source": [
    "a = automato()"
   ],
   "metadata": {
    "collapsed": false,
    "pycharm": {
     "name": "#%%\n"
    }
   }
  },
  {
   "cell_type": "code",
   "execution_count": 40,
   "outputs": [],
   "source": [
    "a.add_state('q0')\n",
    "a.add_state('q1')\n",
    "\n",
    "a.add_initial_state('q0')\n",
    "a.final_state(['q0'])"
   ],
   "metadata": {
    "collapsed": false,
    "pycharm": {
     "name": "#%%\n"
    }
   }
  },
  {
   "cell_type": "code",
   "execution_count": 41,
   "outputs": [
    {
     "name": "stdout",
     "output_type": "stream",
     "text": [
      "this symbol is not in alphabet, add\n"
     ]
    }
   ],
   "source": [
    "a.add_alphabet(['0', '1'])\n",
    "\n",
    "a.add_transition('q0', 'q0', 'E')\n",
    "a.add_transition('q0', 'q0', '0')\n",
    "a.add_transition('q0', 'q0', '1')\n",
    "a.add_transition('q0', 'q1', '1')\n",
    "a.add_transition('q1', 'q0', '1')\n",
    "a.add_transition('q1', 'q1', '0')"
   ],
   "metadata": {
    "collapsed": false,
    "pycharm": {
     "name": "#%%\n"
    }
   }
  },
  {
   "cell_type": "code",
   "execution_count": 42,
   "outputs": [
    {
     "name": "stdout",
     "output_type": "stream",
     "text": [
      "{'G': <networkx.classes.digraph.DiGraph object at 0x7fe389a250b8>, 'node_color': array([[0.16078431, 0.96862745, 0.37647059],\n",
      "       [0.        , 0.        , 0.        ]])}\n"
     ]
    },
    {
     "data": {
      "text/plain": "<Figure size 936x504 with 1 Axes>",
      "image/png": "[encoded data removed]"
     },
     "metadata": {},
     "output_type": "display_data"
    }
   ],
   "source": [
    "a.draw_automato()"
   ],
   "metadata": {
    "collapsed": false,
    "pycharm": {
     "name": "#%%\n"
    }
   }
  },
  {
   "cell_type": "code",
   "execution_count": 43,
   "outputs": [
    {
     "data": {
      "text/plain": "{'transition symbol': ['1']}"
     },
     "execution_count": 43,
     "metadata": {},
     "output_type": "execute_result"
    }
   ],
   "source": [
    "a.graph.edges['q0', 'q1']"
   ],
   "metadata": {
    "collapsed": false,
    "pycharm": {
     "name": "#%%\n"
    }
   }
  },
  {
   "cell_type": "code",
   "execution_count": 44,
   "outputs": [
    {
     "name": "stdout",
     "output_type": "stream",
     "text": [
      "['q0']\n",
      "['q0', 'q1']\n",
      "['q0', 'q1', 'q0']\n",
      "['q0', 'q1', 'q0', 'q0', 'q1']\n",
      "['q0', 'q1', 'q0', 'q0', 'q1', 'q0', 'q1', 'q0']\n",
      "['q0', 'q1', 'q0', 'q0', 'q1', 'q0', 'q1', 'q0']\n",
      "string accepted\n",
      "string accepted\n",
      "string accepted\n",
      "string accepted\n",
      "string accepted\n"
     ]
    }
   ],
   "source": [
    "string = '011110'\n",
    "a.in_automato_language(string)"
   ],
   "metadata": {
    "collapsed": false,
    "pycharm": {
     "name": "#%%\n"
    }
   }
  }
 ],
 "metadata": {
  "kernelspec": {
   "display_name": "Python 3",
   "language": "python",
   "name": "python3"
  },
  "language_info": {
   "codemirror_mode": {
    "name": "ipython",
    "version": 3
   },
   "file_extension": ".py",
   "mimetype": "text/x-python",
   "name": "python",
   "nbconvert_exporter": "python",
   "pygments_lexer": "ipython3",
   "version": "3.7.4"
  }
 },
 "nbformat": 4,
 "nbformat_minor": 4
}