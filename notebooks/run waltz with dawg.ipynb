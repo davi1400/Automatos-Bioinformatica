{
 "cells": [
  {
   "cell_type": "code",
   "execution_count": 12,
   "metadata": {},
   "outputs": [],
   "source": [
    "import os\n",
    "import sys\n",
    "import pandas as pd\n",
    "import numpy as np\n",
    "import datetime\n",
    "import matplotlib.pyplot as plt\n",
    "\n",
    "from DAWG.DAWG import dawg\n",
    "from utils.utils import get_project_root\n",
    "from automatos.conversion.conversor import conversor\n",
    "from sklearn.metrics import *"
   ]
  },
  {
   "cell_type": "markdown",
   "metadata": {
    "pycharm": {
     "name": "#%% md\n"
    }
   },
   "source": [
    "<h1>1. Introdução</h1>\n"
   ]
  },
  {
   "cell_type": "markdown",
   "metadata": {},
   "source": [
    "<h2>1.1 Conjunto de dados</h2>\n",
    "\n",
    "<p>Para este trabalho foram utilizados dois conjuntos de dados, um para o\n",
    "   treino(construção do dawg) e outra para as inferencias(teste), os conjuntos\n",
    "   foram:</p>\n",
    "\n",
    "   - **waltz.txt** para construção do dawg\n",
    "   - **waltzdb.csv** para as inferências gramaticais\n",
    "\n",
    "<p>Vale ressaltar que o conjunto de teste, contem dados de sequencias, na qual cada uma contem uma\n",
    "   classificação, podendo ser amyloid ou non-amyloid.</p>"
   ]
  },
  {
   "cell_type": "markdown",
   "metadata": {
    "pycharm": {
     "name": "#%% md\n"
    }
   },
   "source": [
    "<h2>1.2 leitura dos dados</h2>"
   ]
  },
  {
   "cell_type": "code",
   "execution_count": null,
   "outputs": [],
   "source": [
    "train_path = get_project_root() + '/Automatos-Bioinformatica/datasets/' + 'waltz.txt'\n",
    "train = pd.read_csv(train_path, header=None)\n",
    "\n",
    "test_path = get_project_root() + '/Automatos-Bioinformatica/datasets/' + 'waltzdb.csv'\n",
    "test = pd.read_csv(test_path)"
   ],
   "metadata": {
    "collapsed": false,
    "pycharm": {
     "name": "#%%\n"
    }
   }
  },
  {
   "cell_type": "markdown",
   "source": [
    "<h2>1.3 Divisão do treino em palavras positivas e negativas</h2>\n",
    "\n",
    "<p>No conjunto de treino, existem dois tipos de sequencia(string), as positivas e as negativas\n",
    "    de acordo com o algoritmo de criação de dawg em\n",
    "<a href=\"http://proceedings.mlr.press/v34/wieczorek14a.pdf\">wieczorek14a</a>, logo é necessario dividir o conjunto\n",
    " de treino em strings positivas e outras.</p>"
   ],
   "metadata": {
    "collapsed": false,
    "pycharm": {
     "name": "#%% md\n"
    }
   }
  },
  {
   "cell_type": "code",
   "execution_count": null,
   "outputs": [],
   "source": [
    "plus_words = []\n",
    "negative_words = []\n",
    "for i in range(len(train)):\n",
    "    if '\\t+' in train.iloc[i][0]:\n",
    "        w = train.iloc[i][0]\n",
    "        plus_words.append(w[:len(w) - len('\\t+')])\n",
    "    else:\n",
    "        negative_words.append(train.iloc[i][0])"
   ],
   "metadata": {
    "collapsed": false,
    "pycharm": {
     "name": "#%%\n"
    }
   }
  },
  {
   "cell_type": "markdown",
   "source": [
    "<h1>2. Desenvolvimento do dawg com não determinismo</h1>"
   ],
   "metadata": {
    "collapsed": false,
    "pycharm": {
     "name": "#%% md\n"
    }
   }
  },
  {
   "cell_type": "code",
   "source": [
    "print(\"Treino\")\n",
    "dawg_alg = dawg()\n",
    "dawg_alg.create(plus_words, negative_words)"
   ],
   "metadata": {
    "collapsed": false,
    "pycharm": {
     "name": "#%%\n"
    }
   },
   "execution_count": null,
   "outputs": []
  },
  {
   "cell_type": "markdown",
   "source": [
    "<h1>3. Inferência das seguências com dawg não deterministico</h1>"
   ],
   "metadata": {
    "collapsed": false,
    "pycharm": {
     "name": "#%% md\n"
    }
   }
  },
  {
   "cell_type": "code",
   "execution_count": null,
   "outputs": [
    {
     "name": "stdout",
     "output_type": "stream",
     "text": [
      "{'amyloid': 121, 'non-amyloid': 811}\n",
      "244\n",
      "845\n",
      "mean Time per string in afnd:  35.70339761248852\n"
     ]
    }
   ],
   "source": [
    "target = 'amyloid'\n",
    "N, M = test.shape\n",
    "mean_time = 0\n",
    "\n",
    "expected_number_target = len(test[test['Classification'] == target])\n",
    "expected_number_non_target = N - expected_number_target\n",
    "result = {\n",
    "    'amyloid': 0,\n",
    "    'non-amyloid': 0\n",
    "}\n",
    "y_out = []\n",
    "for i in range(N):\n",
    "    seguence = test.iloc[i]['Sequence']\n",
    "    c = test.iloc[i]['Classification']\n",
    "\n",
    "    seguence += '+'\n",
    "    begin = datetime.datetime.now()\n",
    "    token = dawg_alg.in_automato_language(seguence)\n",
    "    finish = datetime.datetime.now()\n",
    "\n",
    "    mean_time += (finish - begin).microseconds\n",
    "    if token:\n",
    "        if c == target:\n",
    "            result[target] += 1\n",
    "        y_out.append(target)\n",
    "    elif not token:\n",
    "        if c != target:\n",
    "            result['non-amyloid'] += 1\n",
    "        y_out.append('non-amyloid')\n",
    "print(result)\n",
    "print(expected_number_target)\n",
    "print(expected_number_non_target)\n",
    "print(\"mean Time per string in afnd: \", mean_time/N )"
   ],
   "metadata": {
    "collapsed": false,
    "pycharm": {
     "name": "#%%\n"
    }
   }
  },
  {
   "cell_type": "markdown",
   "source": [
    "<h2>3.1 Calculando acurácia, precisão e recall</h2>"
   ],
   "metadata": {
    "collapsed": false,
    "pycharm": {
     "name": "#%% md\n"
    }
   }
  },
  {
   "cell_type": "code",
   "execution_count": null,
   "outputs": [
    {
     "name": "stdout",
     "output_type": "stream",
     "text": [
      "ACC: 0.8558310376492194\n",
      "R: 0.7806451612903226\n",
      "P: 0.4959016393442623\n",
      "AUC: \n"
     ]
    }
   ],
   "source": [
    "y_test = test['Classification'].to_numpy()\n",
    "\n",
    "y_out = np.array(y_out)\n",
    "print('ACC:', str(accuracy_score(y_out, y_test)))\n",
    "print('R:', str(recall_score(y_out, y_test, average='binary', pos_label=\"amyloid\")))\n",
    "print('P:', str(precision_score(y_out, y_test, average='binary', pos_label=\"amyloid\")))\n",
    "print('AUC: ')"
   ],
   "metadata": {
    "collapsed": false,
    "pycharm": {
     "name": "#%%\n"
    }
   }
  },
  {
   "cell_type": "markdown",
   "source": [
    "<h2>3.1 Testando com 10, 20, .. ate 1000 strings do conjunto de teste e verificando tempo</h2>"
   ],
   "metadata": {
    "collapsed": false,
    "pycharm": {
     "name": "#%% md\n"
    }
   }
  },
  {
   "cell_type": "code",
   "execution_count": 16,
   "outputs": [
    {
     "name": "stdout",
     "output_type": "stream",
     "text": [
      "<class 'str'>\n",
      "<class 'str'>\n",
      "<class 'str'>\n",
      "<class 'str'>\n",
      "<class 'str'>\n",
      "<class 'str'>\n",
      "<class 'str'>\n",
      "<class 'str'>\n",
      "<class 'str'>\n",
      "<class 'str'>\n"
     ]
    }
   ],
   "source": [
    "c = 'amyloid'\n",
    "time_test = []\n",
    "range_test = np.arange(1000, 1000000, 100000)\n",
    "for number_words in range_test:\n",
    "    mean_time = 0\n",
    "    word_plus_to_use = ['AGVNYF+']*number_words\n",
    "    print(type(word_plus_to_use[0]))\n",
    "    for i in range(number_words):\n",
    "        begin = datetime.datetime.now()\n",
    "        token = dawg_alg.in_automato_language(word_plus_to_use[i])\n",
    "        finish = datetime.datetime.now()\n",
    "        mean_time += (finish - begin).microseconds\n",
    "\n",
    "    time_test.append(mean_time/number_words)"
   ],
   "metadata": {
    "collapsed": false,
    "pycharm": {
     "name": "#%%\n"
    }
   }
  },
  {
   "cell_type": "code",
   "execution_count": 20,
   "outputs": [
    {
     "data": {
      "text/plain": "<Figure size 432x288 with 1 Axes>",
      "image/png": "[encoded data removed]"
     },
     "metadata": {
      "needs_background": "light"
     },
     "output_type": "display_data"
    }
   ],
   "source": [
    "plt.plot(range_test, sorted(time_test))\n",
    "plt.show()"
   ],
   "metadata": {
    "collapsed": false,
    "pycharm": {
     "name": "#%%\n"
    }
   }
  },
  {
   "cell_type": "code",
   "execution_count": 14,
   "outputs": [
    {
     "data": {
      "text/plain": "array([ 1000, 11000, 21000, 31000, 41000])"
     },
     "execution_count": 14,
     "metadata": {},
     "output_type": "execute_result"
    }
   ],
   "source": [
    "range_test\n"
   ],
   "metadata": {
    "collapsed": false,
    "pycharm": {
     "name": "#%%\n"
    }
   }
  },
  {
   "cell_type": "code",
   "execution_count": 22,
   "outputs": [
    {
     "data": {
      "text/plain": "[32.018099875156054,\n 32.58932630410655,\n 34.63647075606277,\n 34.81690547263682,\n 35.072714285714284,\n 35.54394059405941,\n 36.095064837905234,\n 36.76475207986689,\n 36.90827345309381,\n 49.207]"
     },
     "execution_count": 22,
     "metadata": {},
     "output_type": "execute_result"
    }
   ],
   "source": [
    "sorted(time_test)"
   ],
   "metadata": {
    "collapsed": false,
    "pycharm": {
     "name": "#%%\n"
    }
   }
  }
 ],
 "metadata": {
  "kernelspec": {
   "display_name": "Python 3",
   "language": "python",
   "name": "python3"
  },
  "language_info": {
   "codemirror_mode": {
    "name": "ipython",
    "version": 3
   },
   "file_extension": ".py",
   "mimetype": "text/x-python",
   "name": "python",
   "nbconvert_exporter": "python",
   "pygments_lexer": "ipython3",
   "version": "3.7.4"
  }
 },
 "nbformat": 4,
 "nbformat_minor": 4
}