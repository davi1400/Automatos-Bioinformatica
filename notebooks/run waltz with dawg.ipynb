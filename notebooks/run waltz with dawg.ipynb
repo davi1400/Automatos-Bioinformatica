{
 "cells": [
  {
   "cell_type": "code",
   "execution_count": 1,
   "metadata": {},
   "outputs": [],
   "source": [
    "import os\n",
    "import sys\n",
    "import pandas as pd\n",
    "import numpy as np\n",
    "import datetime\n",
    "import matplotlib.pyplot as plt\n",
    "\n",
    "from DAWG.DAWG import dawg\n",
    "from utils.utils import get_project_root\n",
    "from automatos.conversion.conversor import conversor\n",
    "from sklearn.metrics import *"
   ]
  },
  {
   "cell_type": "markdown",
   "metadata": {
    "pycharm": {
     "name": "#%% md\n"
    }
   },
   "source": [
    "<h1>1. Introdução</h1>\n"
   ]
  },
  {
   "cell_type": "markdown",
   "metadata": {},
   "source": [
    "<h2>1.1 Conjunto de dados</h2>\n",
    "\n",
    "<p>Para este trabalho foram utilizados dois conjuntos de dados, um para o\n",
    "   treino(construção do dawg) e outra para as inferencias(teste), os conjuntos\n",
    "   foram:</p>\n",
    "\n",
    "   - **waltz.txt** para construção do dawg\n",
    "   - **waltzdb.csv** para as inferências gramaticais\n",
    "\n",
    "<p>Vale ressaltar que o conjunto de teste, contem dados de sequencias, na qual cada uma contem uma\n",
    "   classificação, podendo ser amyloid ou non-amyloid.</p>"
   ]
  },
  {
   "cell_type": "markdown",
   "metadata": {
    "pycharm": {
     "name": "#%% md\n"
    }
   },
   "source": [
    "<h2>1.2 leitura dos dados</h2>"
   ]
  },
  {
   "cell_type": "code",
   "execution_count": 2,
   "outputs": [],
   "source": [
    "train_path = get_project_root() + '/Automatos-Bioinformatica/datasets/' + 'waltz.txt'\n",
    "train = pd.read_csv(train_path, header=None)\n",
    "\n",
    "test_path = get_project_root() + '/Automatos-Bioinformatica/datasets/' + 'waltzdb.csv'\n",
    "test = pd.read_csv(test_path)"
   ],
   "metadata": {
    "collapsed": false,
    "pycharm": {
     "name": "#%%\n"
    }
   }
  },
  {
   "cell_type": "markdown",
   "source": [
    "<h2>1.3 Divisão do treino em palavras positivas e negativas</h2>\n",
    "\n",
    "<p>No conjunto de treino, existem dois tipos de sequencia(string), as positivas e as negativas\n",
    "    de acordo com o algoritmo de criação de dawg em\n",
    "<a href=\"http://proceedings.mlr.press/v34/wieczorek14a.pdf\">wieczorek14a</a>, logo é necessario dividir o conjunto\n",
    " de treino em strings positivas e outras.</p>"
   ],
   "metadata": {
    "collapsed": false,
    "pycharm": {
     "name": "#%% md\n"
    }
   }
  },
  {
   "cell_type": "code",
   "execution_count": 3,
   "outputs": [],
   "source": [
    "plus_words = []\n",
    "negative_words = []\n",
    "for i in range(len(train)):\n",
    "    if '\\t+' in train.iloc[i][0]:\n",
    "        w = train.iloc[i][0]\n",
    "        plus_words.append(w[:len(w) - len('\\t+')])\n",
    "    else:\n",
    "        negative_words.append(train.iloc[i][0])"
   ],
   "metadata": {
    "collapsed": false,
    "pycharm": {
     "name": "#%%\n"
    }
   }
  },
  {
   "cell_type": "markdown",
   "source": [
    "<h1>2. Desenvolvimento do dawg com não determinismo</h1>"
   ],
   "metadata": {
    "collapsed": false,
    "pycharm": {
     "name": "#%% md\n"
    }
   }
  },
  {
   "cell_type": "code",
   "source": [
    "print(\"Treino\")\n",
    "dawg_alg = dawg()\n",
    "dawg_alg.create(plus_words, negative_words)"
   ],
   "metadata": {
    "collapsed": false,
    "pycharm": {
     "name": "#%%\n"
    }
   },
   "execution_count": 4,
   "outputs": [
    {
     "name": "stdout",
     "output_type": "stream",
     "text": [
      "Treino\n"
     ]
    }
   ]
  },
  {
   "cell_type": "markdown",
   "source": [
    "<h1>3. Inferência das seguências com dawg não deterministico</h1>"
   ],
   "metadata": {
    "collapsed": false,
    "pycharm": {
     "name": "#%% md\n"
    }
   }
  },
  {
   "cell_type": "code",
   "execution_count": 5,
   "outputs": [
    {
     "name": "stdout",
     "output_type": "stream",
     "text": [
      "{'amyloid': 121, 'non-amyloid': 811}\n",
      "244\n",
      "845\n",
      "mean Time per string in afnd:  41.201101928374655\n"
     ]
    }
   ],
   "source": [
    "target = 'amyloid'\n",
    "N, M = test.shape\n",
    "mean_time = 0\n",
    "\n",
    "expected_number_target = len(test[test['Classification'] == target])\n",
    "expected_number_non_target = N - expected_number_target\n",
    "result = {\n",
    "    'amyloid': 0,\n",
    "    'non-amyloid': 0\n",
    "}\n",
    "y_out = []\n",
    "for i in range(N):\n",
    "    seguence = test.iloc[i]['Sequence']\n",
    "    c = test.iloc[i]['Classification']\n",
    "\n",
    "    seguence += '+'\n",
    "    begin = datetime.datetime.now()\n",
    "    token = dawg_alg.in_automato_language(seguence)\n",
    "    finish = datetime.datetime.now()\n",
    "\n",
    "    mean_time += (finish - begin).microseconds\n",
    "    if token:\n",
    "        if c == target:\n",
    "            result[target] += 1\n",
    "        y_out.append(target)\n",
    "    elif not token:\n",
    "        if c != target:\n",
    "            result['non-amyloid'] += 1\n",
    "        y_out.append('non-amyloid')\n",
    "print(result)\n",
    "print(expected_number_target)\n",
    "print(expected_number_non_target)\n",
    "print(\"mean Time per string in afnd: \", mean_time/N )"
   ],
   "metadata": {
    "collapsed": false,
    "pycharm": {
     "name": "#%%\n"
    }
   }
  },
  {
   "cell_type": "markdown",
   "source": [
    "<h2>3.1 Calculando acurácia, precisão e recall</h2>"
   ],
   "metadata": {
    "collapsed": false,
    "pycharm": {
     "name": "#%% md\n"
    }
   }
  },
  {
   "cell_type": "code",
   "execution_count": 6,
   "outputs": [
    {
     "name": "stdout",
     "output_type": "stream",
     "text": [
      "ACC: 0.8558310376492194\n",
      "R: 0.7806451612903226\n",
      "P: 0.4959016393442623\n",
      "AUC: \n"
     ]
    }
   ],
   "source": [
    "y_test = test['Classification'].to_numpy()\n",
    "\n",
    "y_out = np.array(y_out)\n",
    "print('ACC:', str(accuracy_score(y_out, y_test)))\n",
    "print('R:', str(recall_score(y_out, y_test, average='binary', pos_label=\"amyloid\")))\n",
    "print('P:', str(precision_score(y_out, y_test, average='binary', pos_label=\"amyloid\")))\n",
    "print('AUC: ')\n"
   ],
   "metadata": {
    "collapsed": false,
    "pycharm": {
     "name": "#%%\n"
    }
   }
  },
  {
   "cell_type": "markdown",
   "source": [
    "<h2>3.2 Conversão para deterministico</h2>\n",
    "\n"
   ],
   "metadata": {
    "collapsed": false,
    "pycharm": {
     "name": "#%% md\n"
    }
   }
  },
  {
   "cell_type": "code",
   "execution_count": 12,
   "outputs": [
    {
     "name": "stdout",
     "output_type": "stream",
     "text": [
      "{}\n"
     ]
    }
   ],
   "source": [
    "conv = conversor()\n",
    "conv._to_deterministic(dawg_alg)\n",
    "dawg_alg_afd = conv.afd"
   ],
   "metadata": {
    "collapsed": false,
    "pycharm": {
     "name": "#%%\n"
    }
   }
  },
  {
   "cell_type": "code",
   "execution_count": 13,
   "outputs": [
    {
     "name": "stdout",
     "output_type": "stream",
     "text": [
      "{'Sroot': {'A': {'Sa'}, 'D': {'Sd'}, 'E': {'Se'}, 'F': {'Sf'}, 'G': {'Sg'}, 'H': {'Sh'}, 'I': {'Si'}, 'K': {'Sk'}, 'L': {'Sl'}, 'M': {'Sm'}, 'N': {'Sn'}, 'Q': {'Sq'}, 'R': {'Sr'}, 'S': {'Ss'}, 'T': {'St'}, 'V': {'Sv'}, 'W': {'Sw'}, 'Y': {'Sy'}}, 'Sa': {'G': {'Sag'}, 'L': {'Sal'}, 'Q': {'Saq'}, 'T': {'Sat'}}, 'Sag': {'V': {'Sagv'}}, 'Sagv': {'N': {'Sagvn'}}, 'Sagvn': {'Y': {'Sagvny'}}, 'Sagvny': {'F': {'Sagvnyf'}}, 'Sal': {'E': {'Sale'}}, 'Sale': {'E': {'Salee'}}, 'Salee': {'Y': {'Saleey'}}, 'Saleey': {'T': {'Saleeyt'}}, 'Saq': {'F': {'Saqf'}}, 'Saqf': {'I': {'Saqfi'}}, 'Saqfi': {'I': {'Saqfii'}}, 'Saqfii': {'S': {'Saqfiis'}}, 'Sat': {'V': {'Satv'}}, 'Satv': {'I': {'Satvi'}}, 'Satvi': {'I': {'Satvii'}}, 'Satvii': {'E': {'Satviie'}}, 'Sd': {'C': {'Sdc'}, 'T': {'Sdt'}}, 'Sdc': {'V': {'Sdcv'}}, 'Sdcv': {'N': {'Sdcvn'}}, 'Sdcvn': {'I': {'Sdcvni'}}, 'Sdcvni': {'T': {'Sdcvnit'}}, 'Sdt': {'V': {'Sdtv'}}, 'Sdtv': {'I': {'Sdtvi'}}, 'Sdtvi': {'I': {'Sdtvii'}}, 'Sdtvii': {'E': {'Sdtviie'}}, 'Se': {'G': {'Seg'}, 'T': {'Set'}, 'Y': {'Sey'}}, 'Seg': {'V': {'Segv'}}, 'Segv': {'L': {'Segvl'}}, 'Segvl': {'Y': {'Segvly'}}, 'Segvly': {'V': {'Segvlyv'}}, 'Set': {'V': {'Setv'}}, 'Setv': {'I': {'Setvi'}}, 'Setvi': {'I': {'Setvii'}}, 'Setvii': {'E': {'Setviie'}}, 'Sey': {'S': {'Seys'}}, 'Seys': {'N': {'Seysn'}}, 'Seysn': {'F': {'Seysnf'}}, 'Seysnf': {'S': {'Seysnfs'}}, 'Sf': {'E': {'Sfe'}, 'L': {'Sfl'}, 'T': {'Sft'}, 'Y': {'Sfy'}}, 'Sfe': {'S': {'Sfes'}}, 'Sfes': {'N': {'Sfesn'}}, 'Sfesn': {'F': {'Sfesnf'}}, 'Sfesnf': {'N': {'Sfesnfn'}}, 'Sfl': {'V': {'Sflv'}}, 'Sflv': {'H': {'Sflvh'}}, 'Sflvh': {'S': {'Sflvhs'}}, 'Sflvhs': {'S': {'Sflvhss'}}, 'Sft': {'V': {'Sftv'}}, 'Sftv': {'I': {'Sftvi'}}, 'Sftvi': {'I': {'Sftvii'}}, 'Sftvii': {'E': {'Sftviie'}}, 'Sfy': {'L': {'Sfyl'}}, 'Sfyl': {'L': {'Sfyll'}}, 'Sfyll': {'Y': {'Sfylly'}}, 'Sfylly': {'Y': {'Sfyllyy'}}, 'Sg': {'E': {'Sge'}, 'T': {'Sgt'}, 'V': {'Sgv'}}, 'Sge': {'W': {'Sgew'}}, 'Sgew': {'T': {'Sgewt'}}, 'Sgewt': {'Y': {'Sgewty'}}, 'Sgewty': {'D': {'Sgewtyd'}}, 'Sgt': {'F': {'Sgtf'}, 'V': {'Sgtv'}}, 'Sgtf': {'F': {'Sgtff'}, 'N': {'Sgtfn'}}, 'Sgtff': {'I': {'Sgtffi'}}, 'Sgtffi': {'N': {'Sgtffin'}, 'T': {'Sgtffit'}}, 'Sgtfn': {'I': {'Sgtfni'}}, 'Sgtfni': {'I': {'Sgtfnii'}}, 'Sgtv': {'I': {'Sgtvi'}, 'L': {'Sgtvl'}}, 'Sgtvi': {'I': {'Sgtvii'}}, 'Sgtvii': {'E': {'Sgtviie'}}, 'Sgtvl': {'F': {'Sgtvlf'}}, 'Sgtvlf': {'M': {'Sgtvlfm'}}, 'Sgv': {'N': {'Sgvn'}}, 'Sgvn': {'Y': {'Sgvny'}}, 'Sgvny': {'F': {'Sgvnyf'}}, 'Sgvnyf': {'L': {'Sgvnyfl'}}, 'Sh': {'F': {'Shf'}, 'G': {'Shg'}, 'L': {'Shl'}, 'Q': {'Shq'}, 'Y': {'Shy'}}, 'Shf': {'V': {'Shfv'}}, 'Shfv': {'W': {'Shfvw'}}, 'Shfvw': {'I': {'Shfvwi'}}, 'Shfvwi': {'A': {'Shfvwia'}}, 'Shg': {'W': {'Shgw'}}, 'Shgw': {'L': {'Shgwl'}}, 'Shgwl': {'I': {'Shgwli'}}, 'Shgwli': {'M': {'Shgwlim'}}, 'Shl': {'V': {'Shlv'}}, 'Shlv': {'Y': {'Shlvy'}}, 'Shlvy': {'I': {'Shlvyi'}}, 'Shlvyi': {'M': {'Shlvyim'}}, 'Shq': {'L': {'Shql'}}, 'Shql': {'I': {'Shqli'}}, 'Shqli': {'I': {'Shqlii'}}, 'Shqlii': {'M': {'Shqliim'}}, 'Shy': {'F': {'Shyf'}}, 'Shyf': {'N': {'Shyfn'}}, 'Shyfn': {'I': {'Shyfni'}}, 'Shyfni': {'F': {'Shyfnif'}}, 'Si': {'E': {'Sie'}, 'F': {'Sif'}, 'S': {'Sis'}, 'T': {'Sit'}}, 'Sie': {'M': {'Siem'}}, 'Siem': {'I': {'Siemi'}}, 'Siemi': {'F': {'Siemif'}}, 'Siemif': {'V': {'Siemifv'}}, 'Sif': {'D': {'Sifd'}}, 'Sifd': {'F': {'Sifdf'}}, 'Sifdf': {'I': {'Sifdfi'}}, 'Sifdfi': {'Q': {'Sifdfiq'}}, 'Sis': {'F': {'Sisf'}}, 'Sisf': {'L': {'Sisfl'}}, 'Sisfl': {'I': {'Sisfli'}}, 'Sisfli': {'F': {'Sisflif'}}, 'Sit': {'V': {'Sitv'}}, 'Sitv': {'I': {'Sitvi'}}, 'Sitvi': {'I': {'Sitvii'}}, 'Sitvii': {'E': {'Sitviie'}}, 'Sk': {'D': {'Skd'}, 'I': {'Ski'}, 'L': {'Skl'}, 'V': {'Skv'}}, 'Skd': {'W': {'Skdw'}}, 'Skdw': {'S': {'Skdws'}}, 'Skdws': {'F': {'Skdwsf'}}, 'Skdwsf': {'Y': {'Skdwsfy'}}, 'Ski': {'V': {'Skiv'}}, 'Skiv': {'K': {'Skivk'}}, 'Skivk': {'W': {'Skivkw'}}, 'Skivkw': {'D': {'Skivkwd'}}, 'Skl': {'F': {'Sklf'}, 'L': {'Skll'}}, 'Sklf': {'I': {'Sklfi'}}, 'Sklfi': {'I': {'Sklfii'}}, 'Sklfii': {'Q': {'Sklfiiq'}}, 'Skll': {'I': {'Sklli'}}, 'Sklli': {'Y': {'Sklliy'}}, 'Sklliy': {'E': {'Sklliye'}}, 'Skv': {'Q': {'Skvq'}}, 'Skvq': {'I': {'Skvqi'}}, 'Skvqi': {'I': {'Skvqii'}}, 'Skvqii': {'N': {'Skvqiin'}}, 'Sl': {'A': {'Sla'}, 'I': {'Sli'}, 'L': {'Sll'}, 'T': {'Slt'}, 'V': {'Slv'}, 'Y': {'Sly'}}, 'Sla': {'V': {'Slav'}}, 'Slav': {'L': {'Slavl'}}, 'Slavl': {'F': {'Slavlf'}}, 'Slavlf': {'L': {'Slavlfl'}}, 'Sli': {'F': {'Slif'}}, 'Slif': {'L': {'Slifl'}}, 'Slifl': {'I': {'Slifli'}}, 'Slifli': {'V': {'Slifliv'}}, 'Sll': {'Y': {'Slly'}}, 'Slly': {'Y': {'Sllyy'}}, 'Sllyy': {'T': {'Sllyyt'}}, 'Sllyyt': {'E': {'Sllyyte'}}, 'Slt': {'V': {'Sltv'}}, 'Sltv': {'I': {'Sltvi'}}, 'Sltvi': {'I': {'Sltvii'}}, 'Sltvii': {'E': {'Sltviie'}}, 'Slv': {'E': {'Slve'}}, 'Slve': {'A': {'Slvea'}}, 'Slvea': {'L': {'Slveal'}}, 'Slveal': {'Y': {'Slvealy'}}, 'Sly': {'Q': {'Slyq'}}, 'Slyq': {'L': {'Slyql'}}, 'Slyql': {'E': {'Slyqle'}}, 'Slyqle': {'N': {'Slyqlen'}}, 'Sm': {'I': {'Smi'}, 'L': {'Sml'}, 'T': {'Smt'}}, 'Smi': {'E': {'Smie'}}, 'Smie': {'N': {'Smien'}}, 'Smien': {'I': {'Smieni'}}, 'Smieni': {'Q': {'Smieniq'}}, 'Sml': {'V': {'Smlv'}}, 'Smlv': {'L': {'Smlvl'}}, 'Smlvl': {'F': {'Smlvlf'}}, 'Smlvlf': {'V': {'Smlvlfv'}}, 'Smt': {'V': {'Smtv'}}, 'Smtv': {'I': {'Smtvi'}}, 'Smtvi': {'I': {'Smtvii'}}, 'Smtvii': {'E': {'Smtviie'}}, 'Sn': {'F': {'Snf'}, 'H': {'Snh'}, 'Q': {'Snq'}, 'T': {'Snt'}, 'Y': {'Sny'}}, 'Snf': {'G': {'Snfg'}}, 'Snfg': {'A': {'Snfga'}}, 'Snfga': {'I': {'Snfgai'}}, 'Snfgai': {'L': {'Snfgail'}}, 'Snh': {'V': {'Snhv'}}, 'Snhv': {'T': {'Snhvt'}}, 'Snhvt': {'L': {'Snhvtl'}}, 'Snhvtl': {'S': {'Snhvtls'}}, 'Snq': {'F': {'Snqf'}, 'Q': {'Snqq'}}, 'Snqf': {'I': {'Snqfi'}}, 'Snqfi': {'I': {'Snqfii'}}, 'Snqfii': {'S': {'Snqfiis'}}, 'Snqq': {'N': {'Snqqn'}}, 'Snqqn': {'Q': {'Snqqnq'}}, 'Snqqnq': {'Y': {'Snqqnqy'}}, 'Snt': {'V': {'Sntv'}}, 'Sntv': {'I': {'Sntvi'}}, 'Sntvi': {'I': {'Sntvii'}}, 'Sntvii': {'E': {'Sntviie'}}, 'Sny': {'V': {'Snyv'}}, 'Snyv': {'W': {'Snyvw'}}, 'Snyvw': {'I': {'Snyvwi'}}, 'Snyvwi': {'V': {'Snyvwiv'}}, 'Sq': {'L': {'Sql'}, 'T': {'Sqt'}}, 'Sql': {'E': {'Sqle'}}, 'Sqle': {'N': {'Sqlen'}}, 'Sqlen': {'Y': {'Sqleny'}}, 'Sqleny': {'C': {'Sqlenyc'}}, 'Sqt': {'V': {'Sqtv'}}, 'Sqtv': {'I': {'Sqtvi'}}, 'Sqtvi': {'I': {'Sqtvii'}}, 'Sqtvii': {'E': {'Sqtviie'}}, 'Sr': {'Q': {'Srq'}, 'V': {'Srv'}}, 'Srq': {'V': {'Srqv'}}, 'Srqv': {'L': {'Srqvl'}}, 'Srqvl': {'I': {'Srqvli'}}, 'Srqvli': {'F': {'Srqvlif'}}, 'Srv': {'F': {'Srvf'}}, 'Srvf': {'N': {'Srvfn'}}, 'Srvfn': {'I': {'Srvfni'}}, 'Srvfni': {'M': {'Srvfnim'}}, 'Ss': {'A': {'Ssa'}, 'D': {'Ssd'}, 'E': {'Sse'}, 'F': {'Ssf'}, 'G': {'Ssg'}, 'I': {'Ssi'}, 'L': {'Ssl'}, 'M': {'Ssm'}, 'N': {'Ssn'}, 'Q': {'Ssq'}, 'S': {'Sss'}, 'T': {'Sst'}, 'V': {'Ssv'}, 'Y': {'Ssy'}}, 'Ssa': {'V': {'Ssav'}}, 'Ssav': {'I': {'Ssavi'}}, 'Ssavi': {'I': {'Ssavii'}}, 'Ssavii': {'E': {'Ssaviie'}}, 'Ssd': {'V': {'Ssdv'}}, 'Ssdv': {'I': {'Ssdvi'}}, 'Ssdvi': {'I': {'Ssdvii'}}, 'Ssdvii': {'E': {'Ssdviie'}}, 'Sse': {'V': {'Ssev'}}, 'Ssev': {'I': {'Ssevi'}}, 'Ssevi': {'I': {'Ssevii'}}, 'Ssevii': {'E': {'Sseviie'}}, 'Ssf': {'F': {'Ssff'}, 'L': {'Ssfl'}, 'Q': {'Ssfq'}, 'V': {'Ssfv'}}, 'Ssff': {'F': {'Ssfff'}}, 'Ssfff': {'I': {'Ssfffi'}}, 'Ssfffi': {'Q': {'Ssfffiq'}}, 'Ssfl': {'I': {'Ssfli'}}, 'Ssfli': {'F': {'Ssflif'}}, 'Ssflif': {'L': {'Ssflifl'}}, 'Ssfq': {'I': {'Ssfqi'}}, 'Ssfqi': {'Y': {'Ssfqiy'}}, 'Ssfqiy': {'A': {'Ssfqiya'}}, 'Ssfv': {'I': {'Ssfvi'}}, 'Ssfvi': {'I': {'Ssfvii'}}, 'Ssfvii': {'E': {'Ssfviie'}}, 'Ssg': {'V': {'Ssgv'}}, 'Ssgv': {'I': {'Ssgvi'}}, 'Ssgvi': {'I': {'Ssgvii'}}, 'Ssgvii': {'E': {'Ssgviie'}}, 'Ssi': {'V': {'Ssiv'}}, 'Ssiv': {'I': {'Ssivi'}}, 'Ssivi': {'I': {'Ssivii'}}, 'Ssivii': {'E': {'Ssiviie'}}, 'Ssl': {'V': {'Sslv'}}, 'Sslv': {'I': {'Sslvi'}}, 'Sslvi': {'I': {'Sslvii'}}, 'Sslvii': {'E': {'Sslviie'}}, 'Ssm': {'V': {'Ssmv'}}, 'Ssmv': {'I': {'Ssmvi'}, 'L': {'Ssmvl'}}, 'Ssmvi': {'I': {'Ssmvii'}}, 'Ssmvii': {'E': {'Ssmviie'}}, 'Ssmvl': {'F': {'Ssmvlf'}}, 'Ssmvlf': {'S': {'Ssmvlfs'}}, 'Ssn': {'V': {'Ssnv'}}, 'Ssnv': {'I': {'Ssnvi'}}, 'Ssnvi': {'I': {'Ssnvii'}}, 'Ssnvii': {'E': {'Ssnviie'}}, 'Ssq': {'F': {'Ssqf'}, 'V': {'Ssqv'}}, 'Ssqf': {'Y': {'Ssqfy'}}, 'Ssqfy': {'I': {'Ssqfyi'}}, 'Ssqfyi': {'T': {'Ssqfyit'}}, 'Ssqv': {'I': {'Ssqvi'}}, 'Ssqvi': {'I': {'Ssqvii'}}, 'Ssqvii': {'E': {'Ssqviie'}}, 'Sss': {'V': {'Sssv'}}, 'Sssv': {'I': {'Sssvi'}}, 'Sssvi': {'I': {'Sssvii'}}, 'Sssvii': {'E': {'Sssviie'}}, 'Sst': {'E': {'Sste'}, 'F': {'Sstf'}, 'L': {'Sstl'}, 'N': {'Sstn'}, 'Q': {'Sstq'}, 'S': {'Ssts'}, 'V': {'Sstv'}}, 'Sste': {'I': {'Sstei'}}, 'Sstei': {'I': {'Ssteii'}}, 'Ssteii': {'E': {'Ssteiie'}}, 'Sstf': {'I': {'Sstfi'}}, 'Sstfi': {'I': {'Sstfii'}}, 'Sstfii': {'E': {'Sstfiie'}}, 'Sstl': {'I': {'Sstli'}}, 'Sstli': {'I': {'Sstlii'}}, 'Sstlii': {'E': {'Sstliie'}}, 'Sstn': {'I': {'Sstni'}}, 'Sstni': {'I': {'Sstnii'}}, 'Sstnii': {'E': {'Sstniie'}}, 'Sstq': {'I': {'Sstqi'}}, 'Sstqi': {'I': {'Sstqii'}}, 'Sstqii': {'E': {'Sstqiie'}}, 'Ssts': {'I': {'Sstsi'}}, 'Sstsi': {'I': {'Sstsii'}}, 'Sstsii': {'E': {'Sstsiie'}}, 'Sstv': {'E': {'Sstve'}, 'F': {'Sstvf'}, 'I': {'Sstvi'}, 'L': {'Sstvl'}, 'N': {'Sstvn'}, 'T': {'Sstvt'}, 'W': {'Sstvw'}, 'Y': {'Sstvy'}}, 'Sstve': {'I': {'Sstvei'}}, 'Sstvei': {'E': {'Sstveie'}}, 'Sstvf': {'I': {'Sstvfi'}}, 'Sstvfi': {'E': {'Sstvfie'}}, 'Sstvi': {'F': {'Sstvif'}, 'I': {'Sstvii'}, 'Y': {'Sstviy'}}, 'Sstvif': {'E': {'Sstvife'}}, 'Sstvii': {'A': {'Sstviia'}, 'D': {'Sstviid'}, 'E': {'Sstviie'}, 'F': {'Sstviif'}, 'I': {'Sstviii'}, 'L': {'Sstviil'}, 'M': {'Sstviim'}, 'N': {'Sstviin'}, 'Q': {'Sstviiq'}, 'S': {'Sstviis'}, 'T': {'Sstviit'}, 'V': {'Sstviiv'}, 'W': {'Sstviiw'}, 'Y': {'Sstviiy'}}, 'Sstviy': {'E': {'Sstviye'}}, 'Sstvl': {'I': {'Sstvli'}}, 'Sstvli': {'E': {'Sstvlie'}}, 'Sstvn': {'I': {'Sstvni'}}, 'Sstvni': {'E': {'Sstvnie'}}, 'Sstvt': {'I': {'Sstvti'}}, 'Sstvti': {'E': {'Sstvtie'}}, 'Sstvw': {'I': {'Sstvwi'}}, 'Sstvwi': {'E': {'Sstvwie'}}, 'Sstvy': {'I': {'Sstvyi'}}, 'Sstvyi': {'E': {'Sstvyie'}}, 'Ssv': {'V': {'Ssvv'}}, 'Ssvv': {'I': {'Ssvvi'}}, 'Ssvvi': {'I': {'Ssvvii'}}, 'Ssvvii': {'E': {'Ssvviie'}}, 'Ssy': {'V': {'Ssyv'}}, 'Ssyv': {'I': {'Ssyvi'}}, 'Ssyvi': {'I': {'Ssyvii'}}, 'Ssyvii': {'E': {'Ssyviie'}}, 'St': {'T': {'Stt'}, 'Y': {'Sty'}}, 'Stt': {'V': {'Sttv'}}, 'Sttv': {'I': {'Sttvi'}}, 'Sttvi': {'I': {'Sttvii'}}, 'Sttvii': {'E': {'Sttviie'}}, 'Sty': {'V': {'Styv'}}, 'Styv': {'E': {'Styve'}}, 'Styve': {'Y': {'Styvey'}}, 'Styvey': {'I': {'Styveyi'}}, 'Sv': {'E': {'Sve'}, 'I': {'Svi'}, 'Q': {'Svq'}, 'S': {'Svs'}, 'T': {'Svt'}}, 'Sve': {'A': {'Svea'}}, 'Svea': {'L': {'Sveal'}}, 'Sveal': {'Y': {'Svealy'}}, 'Svealy': {'L': {'Svealyl'}}, 'Svi': {'L': {'Svil'}}, 'Svil': {'L': {'Svill'}}, 'Svill': {'I': {'Svilli'}}, 'Svilli': {'S': {'Svillis'}}, 'Svq': {'I': {'Svqi'}}, 'Svqi': {'V': {'Svqiv'}}, 'Svqiv': {'Y': {'Svqivy'}}, 'Svqivy': {'K': {'Svqivyk'}}, 'Svs': {'F': {'Svsf'}}, 'Svsf': {'E': {'Svsfe'}}, 'Svsfe': {'I': {'Svsfei'}}, 'Svsfei': {'V': {'Svsfeiv'}}, 'Svt': {'S': {'Svts'}, 'V': {'Svtv'}}, 'Svts': {'T': {'Svtst'}}, 'Svtst': {'F': {'Svtstf'}}, 'Svtstf': {'S': {'Svtstfs'}}, 'Svtv': {'I': {'Svtvi'}}, 'Svtvi': {'I': {'Svtvii'}}, 'Svtvii': {'E': {'Svtviie'}}, 'Sw': {'I': {'Swi'}, 'T': {'Swt'}, 'V': {'Swv'}}, 'Swi': {'V': {'Swiv'}}, 'Swiv': {'I': {'Swivi'}}, 'Swivi': {'F': {'Swivif'}}, 'Swivif': {'F': {'Swiviff'}}, 'Swt': {'V': {'Swtv'}}, 'Swtv': {'I': {'Swtvi'}}, 'Swtvi': {'I': {'Swtvii'}}, 'Swtvii': {'E': {'Swtviie'}}, 'Swv': {'F': {'Swvf'}}, 'Swvf': {'W': {'Swvfw'}}, 'Swvfw': {'I': {'Swvfwi'}}, 'Swvfwi': {'G': {'Swvfwig'}}, 'Sy': {'A': {'Sya'}, 'L': {'Syl'}, 'T': {'Syt'}, 'V': {'Syv'}, 'Y': {'Syy'}}, 'Sya': {'E': {'Syae'}}, 'Syae': {'L': {'Syael'}}, 'Syael': {'I': {'Syaeli'}}, 'Syaeli': {'V': {'Syaeliv'}}, 'Syl': {'N': {'Syln'}}, 'Syln': {'W': {'Sylnw'}}, 'Sylnw': {'Y': {'Sylnwy'}}, 'Sylnwy': {'Q': {'Sylnwyq'}}, 'Syt': {'V': {'Sytv'}}, 'Sytv': {'I': {'Sytvi'}}, 'Sytvi': {'I': {'Sytvii'}}, 'Sytvii': {'E': {'Sytviie'}}, 'Syv': {'E': {'Syve'}}, 'Syve': {'Y': {'Syvey'}}, 'Syvey': {'I': {'Syveyi'}}, 'Syveyi': {'G': {'Syveyig'}}, 'Syy': {'Q': {'Syyq'}}, 'Syyq': {'N': {'Syyqn'}}, 'Syyqn': {'Y': {'Syyqny'}}, 'Syyqny': {'Q': {'Syyqnyq'}}, 'Sagvnyf': {'+': {'Sterminal'}}, 'Saleeyt': {'+': {'Sterminal'}}, 'Saqfiis': {'+': {'Sterminal'}}, 'Satviie': {'+': {'Sterminal'}}, 'Sdcvnit': {'+': {'Sterminal'}}, 'Sdtviie': {'+': {'Sterminal'}}, 'Segvlyv': {'+': {'Sterminal'}}, 'Setviie': {'+': {'Sterminal'}}, 'Seysnfs': {'+': {'Sterminal'}}, 'Sfesnfn': {'+': {'Sterminal'}}, 'Sflvhss': {'+': {'Sterminal'}}, 'Sftviie': {'+': {'Sterminal'}}, 'Sfyllyy': {'+': {'Sterminal'}}, 'Sgewtyd': {'+': {'Sterminal'}}, 'Sgtffin': {'+': {'Sterminal'}}, 'Sgtffit': {'+': {'Sterminal'}}, 'Sgtfnii': {'+': {'Sterminal'}}, 'Sgtviie': {'+': {'Sterminal'}}, 'Sgtvlfm': {'+': {'Sterminal'}}, 'Sgvnyfl': {'+': {'Sterminal'}}, 'Shfvwia': {'+': {'Sterminal'}}, 'Shgwlim': {'+': {'Sterminal'}}, 'Shlvyim': {'+': {'Sterminal'}}, 'Shqliim': {'+': {'Sterminal'}}, 'Shyfnif': {'+': {'Sterminal'}}, 'Siemifv': {'+': {'Sterminal'}}, 'Sifdfiq': {'+': {'Sterminal'}}, 'Sisflif': {'+': {'Sterminal'}}, 'Sitviie': {'+': {'Sterminal'}}, 'Skdwsfy': {'+': {'Sterminal'}}, 'Skivkwd': {'+': {'Sterminal'}}, 'Sklfiiq': {'+': {'Sterminal'}}, 'Sklliye': {'+': {'Sterminal'}}, 'Skvqiin': {'+': {'Sterminal'}}, 'Slavlfl': {'+': {'Sterminal'}}, 'Slifliv': {'+': {'Sterminal'}}, 'Sllyyte': {'+': {'Sterminal'}}, 'Sltviie': {'+': {'Sterminal'}}, 'Slvealy': {'+': {'Sterminal'}}, 'Slyqlen': {'+': {'Sterminal'}}, 'Smieniq': {'+': {'Sterminal'}}, 'Smlvlfv': {'+': {'Sterminal'}}, 'Smtviie': {'+': {'Sterminal'}}, 'Snfgail': {'+': {'Sterminal'}}, 'Snhvtls': {'+': {'Sterminal'}}, 'Snqfiis': {'+': {'Sterminal'}}, 'Snqqnqy': {'+': {'Sterminal'}}, 'Sntviie': {'+': {'Sterminal'}}, 'Snyvwiv': {'+': {'Sterminal'}}, 'Sqlenyc': {'+': {'Sterminal'}}, 'Sqtviie': {'+': {'Sterminal'}}, 'Srqvlif': {'+': {'Sterminal'}}, 'Srvfnim': {'+': {'Sterminal'}}, 'Ssaviie': {'+': {'Sterminal'}}, 'Ssdviie': {'+': {'Sterminal'}}, 'Sseviie': {'+': {'Sterminal'}}, 'Ssfffiq': {'+': {'Sterminal'}}, 'Ssflifl': {'+': {'Sterminal'}}, 'Ssfqiya': {'+': {'Sterminal'}}, 'Ssfviie': {'+': {'Sterminal'}}, 'Ssgviie': {'+': {'Sterminal'}}, 'Ssiviie': {'+': {'Sterminal'}}, 'Sslviie': {'+': {'Sterminal'}}, 'Ssmviie': {'+': {'Sterminal'}}, 'Ssmvlfs': {'+': {'Sterminal'}}, 'Ssnviie': {'+': {'Sterminal'}}, 'Ssqfyit': {'+': {'Sterminal'}}, 'Ssqviie': {'+': {'Sterminal'}}, 'Sssviie': {'+': {'Sterminal'}}, 'Ssteiie': {'+': {'Sterminal'}}, 'Sstfiie': {'+': {'Sterminal'}}, 'Sstliie': {'+': {'Sterminal'}}, 'Sstniie': {'+': {'Sterminal'}}, 'Sstqiie': {'+': {'Sterminal'}}, 'Sstsiie': {'+': {'Sterminal'}}, 'Sstveie': {'+': {'Sterminal'}}, 'Sstvfie': {'+': {'Sterminal'}}, 'Sstvife': {'+': {'Sterminal'}}, 'Sstviia': {'+': {'Sterminal'}}, 'Sstviid': {'+': {'Sterminal'}}, 'Sstviie': {'+': {'Sterminal'}}, 'Sstviif': {'+': {'Sterminal'}}, 'Sstviii': {'+': {'Sterminal'}}, 'Sstviil': {'+': {'Sterminal'}}, 'Sstviim': {'+': {'Sterminal'}}, 'Sstviin': {'+': {'Sterminal'}}, 'Sstviiq': {'+': {'Sterminal'}}, 'Sstviis': {'+': {'Sterminal'}}, 'Sstviit': {'+': {'Sterminal'}}, 'Sstviiv': {'+': {'Sterminal'}}, 'Sstviiw': {'+': {'Sterminal'}}, 'Sstviiy': {'+': {'Sterminal'}}, 'Sstviye': {'+': {'Sterminal'}}, 'Sstvlie': {'+': {'Sterminal'}}, 'Sstvnie': {'+': {'Sterminal'}}, 'Sstvtie': {'+': {'Sterminal'}}, 'Sstvwie': {'+': {'Sterminal'}}, 'Sstvyie': {'+': {'Sterminal'}}, 'Ssvviie': {'+': {'Sterminal'}}, 'Ssyviie': {'+': {'Sterminal'}}, 'Sttviie': {'+': {'Sterminal'}}, 'Styveyi': {'+': {'Sterminal'}}, 'Svealyl': {'+': {'Sterminal'}}, 'Svillis': {'+': {'Sterminal'}}, 'Svqivyk': {'+': {'Sterminal'}}, 'Svsfeiv': {'+': {'Sterminal'}}, 'Svtstfs': {'+': {'Sterminal'}}, 'Svtviie': {'+': {'Sterminal'}}, 'Swiviff': {'+': {'Sterminal'}}, 'Swtviie': {'+': {'Sterminal'}}, 'Swvfwig': {'+': {'Sterminal'}}, 'Syaeliv': {'+': {'Sterminal'}}, 'Sylnwyq': {'+': {'Sterminal'}}, 'Sytviie': {'+': {'Sterminal'}}, 'Syveyig': {'+': {'Sterminal'}}, 'Syyqnyq': {'+': {'Sterminal'}}}\n"
     ]
    }
   ],
   "source": [
    "print(conv.transtion_table_afnd)"
   ],
   "metadata": {
    "collapsed": false,
    "pycharm": {
     "name": "#%%\n"
    }
   }
  },
  {
   "cell_type": "code",
   "execution_count": 11,
   "outputs": [
    {
     "ename": "KeyboardInterrupt",
     "evalue": "",
     "output_type": "error",
     "traceback": [
      "\u001B[0;31m---------------------------------------------------------------------------\u001B[0m",
      "\u001B[0;31mKeyboardInterrupt\u001B[0m                         Traceback (most recent call last)",
      "\u001B[0;32m<ipython-input-11-825d5883d456>\u001B[0m in \u001B[0;36m<module>\u001B[0;34m\u001B[0m\n\u001B[1;32m     21\u001B[0m     \u001B[0mseguence\u001B[0m \u001B[0;34m+=\u001B[0m \u001B[0;34m'+'\u001B[0m\u001B[0;34m\u001B[0m\u001B[0;34m\u001B[0m\u001B[0m\n\u001B[1;32m     22\u001B[0m     \u001B[0mbegin\u001B[0m \u001B[0;34m=\u001B[0m \u001B[0mdatetime\u001B[0m\u001B[0;34m.\u001B[0m\u001B[0mdatetime\u001B[0m\u001B[0;34m.\u001B[0m\u001B[0mnow\u001B[0m\u001B[0;34m(\u001B[0m\u001B[0;34m)\u001B[0m\u001B[0;34m\u001B[0m\u001B[0;34m\u001B[0m\u001B[0m\n\u001B[0;32m---> 23\u001B[0;31m     \u001B[0mtoken\u001B[0m \u001B[0;34m=\u001B[0m \u001B[0mdawg_alg_afd\u001B[0m\u001B[0;34m.\u001B[0m\u001B[0min_automato_language\u001B[0m\u001B[0;34m(\u001B[0m\u001B[0mseguence\u001B[0m\u001B[0;34m)\u001B[0m\u001B[0;34m\u001B[0m\u001B[0;34m\u001B[0m\u001B[0m\n\u001B[0m\u001B[1;32m     24\u001B[0m     \u001B[0mfinish\u001B[0m \u001B[0;34m=\u001B[0m \u001B[0mdatetime\u001B[0m\u001B[0;34m.\u001B[0m\u001B[0mdatetime\u001B[0m\u001B[0;34m.\u001B[0m\u001B[0mnow\u001B[0m\u001B[0;34m(\u001B[0m\u001B[0;34m)\u001B[0m\u001B[0;34m\u001B[0m\u001B[0;34m\u001B[0m\u001B[0m\n\u001B[1;32m     25\u001B[0m \u001B[0;34m\u001B[0m\u001B[0m\n",
      "\u001B[0;32m~/PycharmProjects/Automatos-Bioinformatica/automatos/deterministicos/AFD.py\u001B[0m in \u001B[0;36min_automato_language\u001B[0;34m(self, string)\u001B[0m\n\u001B[1;32m    119\u001B[0m             \u001B[0;32mreturn\u001B[0m\u001B[0;34m\u001B[0m\u001B[0;34m\u001B[0m\u001B[0m\n\u001B[1;32m    120\u001B[0m \u001B[0;34m\u001B[0m\u001B[0m\n\u001B[0;32m--> 121\u001B[0;31m         \u001B[0;32mfor\u001B[0m \u001B[0mi\u001B[0m \u001B[0;32min\u001B[0m \u001B[0mrange\u001B[0m\u001B[0;34m(\u001B[0m\u001B[0mN\u001B[0m\u001B[0;34m)\u001B[0m\u001B[0;34m:\u001B[0m\u001B[0;34m\u001B[0m\u001B[0;34m\u001B[0m\u001B[0m\n\u001B[0m\u001B[1;32m    122\u001B[0m             \u001B[0mcurrent_state\u001B[0m \u001B[0;34m=\u001B[0m \u001B[0mself\u001B[0m\u001B[0;34m.\u001B[0m\u001B[0mnext_state\u001B[0m\u001B[0;34m(\u001B[0m\u001B[0mcurrent_state\u001B[0m\u001B[0;34m,\u001B[0m \u001B[0mstring\u001B[0m\u001B[0;34m[\u001B[0m\u001B[0mi\u001B[0m\u001B[0;34m]\u001B[0m\u001B[0;34m)\u001B[0m\u001B[0;34m\u001B[0m\u001B[0;34m\u001B[0m\u001B[0m\n\u001B[1;32m    123\u001B[0m \u001B[0;34m\u001B[0m\u001B[0m\n",
      "\u001B[0;32m~/PycharmProjects/Automatos-Bioinformatica/automatos/deterministicos/AFD.py\u001B[0m in \u001B[0;36min_automato_language\u001B[0;34m(self, string)\u001B[0m\n\u001B[1;32m    119\u001B[0m             \u001B[0;32mreturn\u001B[0m\u001B[0;34m\u001B[0m\u001B[0;34m\u001B[0m\u001B[0m\n\u001B[1;32m    120\u001B[0m \u001B[0;34m\u001B[0m\u001B[0m\n\u001B[0;32m--> 121\u001B[0;31m         \u001B[0;32mfor\u001B[0m \u001B[0mi\u001B[0m \u001B[0;32min\u001B[0m \u001B[0mrange\u001B[0m\u001B[0;34m(\u001B[0m\u001B[0mN\u001B[0m\u001B[0;34m)\u001B[0m\u001B[0;34m:\u001B[0m\u001B[0;34m\u001B[0m\u001B[0;34m\u001B[0m\u001B[0m\n\u001B[0m\u001B[1;32m    122\u001B[0m             \u001B[0mcurrent_state\u001B[0m \u001B[0;34m=\u001B[0m \u001B[0mself\u001B[0m\u001B[0;34m.\u001B[0m\u001B[0mnext_state\u001B[0m\u001B[0;34m(\u001B[0m\u001B[0mcurrent_state\u001B[0m\u001B[0;34m,\u001B[0m \u001B[0mstring\u001B[0m\u001B[0;34m[\u001B[0m\u001B[0mi\u001B[0m\u001B[0;34m]\u001B[0m\u001B[0;34m)\u001B[0m\u001B[0;34m\u001B[0m\u001B[0;34m\u001B[0m\u001B[0m\n\u001B[1;32m    123\u001B[0m \u001B[0;34m\u001B[0m\u001B[0m\n",
      "\u001B[0;32m/snap/pycharm-professional/248/plugins/python/helpers/pydev/_pydevd_bundle/pydevd_frame.py\u001B[0m in \u001B[0;36mtrace_dispatch\u001B[0;34m(self, frame, event, arg)\u001B[0m\n\u001B[1;32m    745\u001B[0m                 \u001B[0;31m# if thread has a suspend flag, we suspend with a busy wait\u001B[0m\u001B[0;34m\u001B[0m\u001B[0;34m\u001B[0m\u001B[0;34m\u001B[0m\u001B[0m\n\u001B[1;32m    746\u001B[0m                 \u001B[0;32mif\u001B[0m \u001B[0minfo\u001B[0m\u001B[0;34m.\u001B[0m\u001B[0mpydev_state\u001B[0m \u001B[0;34m==\u001B[0m \u001B[0mSTATE_SUSPEND\u001B[0m\u001B[0;34m:\u001B[0m\u001B[0;34m\u001B[0m\u001B[0;34m\u001B[0m\u001B[0m\n\u001B[0;32m--> 747\u001B[0;31m                     \u001B[0mself\u001B[0m\u001B[0;34m.\u001B[0m\u001B[0mdo_wait_suspend\u001B[0m\u001B[0;34m(\u001B[0m\u001B[0mthread\u001B[0m\u001B[0;34m,\u001B[0m \u001B[0mframe\u001B[0m\u001B[0;34m,\u001B[0m \u001B[0mevent\u001B[0m\u001B[0;34m,\u001B[0m \u001B[0marg\u001B[0m\u001B[0;34m)\u001B[0m\u001B[0;34m\u001B[0m\u001B[0;34m\u001B[0m\u001B[0m\n\u001B[0m\u001B[1;32m    748\u001B[0m                     \u001B[0;31m# No need to reset frame.f_trace to keep the same trace function.\u001B[0m\u001B[0;34m\u001B[0m\u001B[0;34m\u001B[0m\u001B[0;34m\u001B[0m\u001B[0m\n\u001B[1;32m    749\u001B[0m                     \u001B[0;32mreturn\u001B[0m \u001B[0mself\u001B[0m\u001B[0;34m.\u001B[0m\u001B[0mtrace_dispatch\u001B[0m\u001B[0;34m\u001B[0m\u001B[0;34m\u001B[0m\u001B[0m\n",
      "\u001B[0;32m/snap/pycharm-professional/248/plugins/python/helpers/pydev/_pydevd_bundle/pydevd_frame.py\u001B[0m in \u001B[0;36mdo_wait_suspend\u001B[0;34m(self, *args, **kwargs)\u001B[0m\n\u001B[1;32m    142\u001B[0m \u001B[0;34m\u001B[0m\u001B[0m\n\u001B[1;32m    143\u001B[0m     \u001B[0;32mdef\u001B[0m \u001B[0mdo_wait_suspend\u001B[0m\u001B[0;34m(\u001B[0m\u001B[0mself\u001B[0m\u001B[0;34m,\u001B[0m \u001B[0;34m*\u001B[0m\u001B[0margs\u001B[0m\u001B[0;34m,\u001B[0m \u001B[0;34m**\u001B[0m\u001B[0mkwargs\u001B[0m\u001B[0;34m)\u001B[0m\u001B[0;34m:\u001B[0m\u001B[0;34m\u001B[0m\u001B[0;34m\u001B[0m\u001B[0m\n\u001B[0;32m--> 144\u001B[0;31m         \u001B[0mself\u001B[0m\u001B[0;34m.\u001B[0m\u001B[0m_args\u001B[0m\u001B[0;34m[\u001B[0m\u001B[0;36m0\u001B[0m\u001B[0;34m]\u001B[0m\u001B[0;34m.\u001B[0m\u001B[0mdo_wait_suspend\u001B[0m\u001B[0;34m(\u001B[0m\u001B[0;34m*\u001B[0m\u001B[0margs\u001B[0m\u001B[0;34m,\u001B[0m \u001B[0;34m**\u001B[0m\u001B[0mkwargs\u001B[0m\u001B[0;34m)\u001B[0m\u001B[0;34m\u001B[0m\u001B[0;34m\u001B[0m\u001B[0m\n\u001B[0m\u001B[1;32m    145\u001B[0m \u001B[0;34m\u001B[0m\u001B[0m\n\u001B[1;32m    146\u001B[0m     \u001B[0;31m# IFDEF CYTHON\u001B[0m\u001B[0;34m\u001B[0m\u001B[0;34m\u001B[0m\u001B[0;34m\u001B[0m\u001B[0m\n",
      "\u001B[0;32m/snap/pycharm-professional/248/plugins/python/helpers/pydev/pydevd.py\u001B[0m in \u001B[0;36mdo_wait_suspend\u001B[0;34m(self, thread, frame, event, arg, send_suspend_message, is_unhandled_exception)\u001B[0m\n\u001B[1;32m   1145\u001B[0m \u001B[0;34m\u001B[0m\u001B[0m\n\u001B[1;32m   1146\u001B[0m         \u001B[0;32mwith\u001B[0m \u001B[0mself\u001B[0m\u001B[0;34m.\u001B[0m\u001B[0m_threads_suspended_single_notification\u001B[0m\u001B[0;34m.\u001B[0m\u001B[0mnotify_thread_suspended\u001B[0m\u001B[0;34m(\u001B[0m\u001B[0mthread_id\u001B[0m\u001B[0;34m,\u001B[0m \u001B[0mstop_reason\u001B[0m\u001B[0;34m)\u001B[0m\u001B[0;34m:\u001B[0m\u001B[0;34m\u001B[0m\u001B[0;34m\u001B[0m\u001B[0m\n\u001B[0;32m-> 1147\u001B[0;31m             \u001B[0mself\u001B[0m\u001B[0;34m.\u001B[0m\u001B[0m_do_wait_suspend\u001B[0m\u001B[0;34m(\u001B[0m\u001B[0mthread\u001B[0m\u001B[0;34m,\u001B[0m \u001B[0mframe\u001B[0m\u001B[0;34m,\u001B[0m \u001B[0mevent\u001B[0m\u001B[0;34m,\u001B[0m \u001B[0marg\u001B[0m\u001B[0;34m,\u001B[0m \u001B[0msuspend_type\u001B[0m\u001B[0;34m,\u001B[0m \u001B[0mfrom_this_thread\u001B[0m\u001B[0;34m)\u001B[0m\u001B[0;34m\u001B[0m\u001B[0;34m\u001B[0m\u001B[0m\n\u001B[0m\u001B[1;32m   1148\u001B[0m \u001B[0;34m\u001B[0m\u001B[0m\n\u001B[1;32m   1149\u001B[0m     \u001B[0;32mdef\u001B[0m \u001B[0m_do_wait_suspend\u001B[0m\u001B[0;34m(\u001B[0m\u001B[0mself\u001B[0m\u001B[0;34m,\u001B[0m \u001B[0mthread\u001B[0m\u001B[0;34m,\u001B[0m \u001B[0mframe\u001B[0m\u001B[0;34m,\u001B[0m \u001B[0mevent\u001B[0m\u001B[0;34m,\u001B[0m \u001B[0marg\u001B[0m\u001B[0;34m,\u001B[0m \u001B[0msuspend_type\u001B[0m\u001B[0;34m,\u001B[0m \u001B[0mfrom_this_thread\u001B[0m\u001B[0;34m)\u001B[0m\u001B[0;34m:\u001B[0m\u001B[0;34m\u001B[0m\u001B[0;34m\u001B[0m\u001B[0m\n",
      "\u001B[0;32m/snap/pycharm-professional/248/plugins/python/helpers/pydev/pydevd.py\u001B[0m in \u001B[0;36m_do_wait_suspend\u001B[0;34m(self, thread, frame, event, arg, suspend_type, from_this_thread)\u001B[0m\n\u001B[1;32m   1160\u001B[0m \u001B[0;34m\u001B[0m\u001B[0m\n\u001B[1;32m   1161\u001B[0m                 \u001B[0mself\u001B[0m\u001B[0;34m.\u001B[0m\u001B[0mprocess_internal_commands\u001B[0m\u001B[0;34m(\u001B[0m\u001B[0;34m)\u001B[0m\u001B[0;34m\u001B[0m\u001B[0;34m\u001B[0m\u001B[0m\n\u001B[0;32m-> 1162\u001B[0;31m                 \u001B[0mtime\u001B[0m\u001B[0;34m.\u001B[0m\u001B[0msleep\u001B[0m\u001B[0;34m(\u001B[0m\u001B[0;36m0.01\u001B[0m\u001B[0;34m)\u001B[0m\u001B[0;34m\u001B[0m\u001B[0;34m\u001B[0m\u001B[0m\n\u001B[0m\u001B[1;32m   1163\u001B[0m \u001B[0;34m\u001B[0m\u001B[0m\n\u001B[1;32m   1164\u001B[0m         \u001B[0mself\u001B[0m\u001B[0;34m.\u001B[0m\u001B[0mcancel_async_evaluation\u001B[0m\u001B[0;34m(\u001B[0m\u001B[0mget_current_thread_id\u001B[0m\u001B[0;34m(\u001B[0m\u001B[0mthread\u001B[0m\u001B[0;34m)\u001B[0m\u001B[0;34m,\u001B[0m \u001B[0mstr\u001B[0m\u001B[0;34m(\u001B[0m\u001B[0mid\u001B[0m\u001B[0;34m(\u001B[0m\u001B[0mframe\u001B[0m\u001B[0;34m)\u001B[0m\u001B[0;34m)\u001B[0m\u001B[0;34m)\u001B[0m\u001B[0;34m\u001B[0m\u001B[0;34m\u001B[0m\u001B[0m\n",
      "\u001B[0;31mKeyboardInterrupt\u001B[0m: "
     ]
    }
   ],
   "source": [
    "target = 'amyloid'\n",
    "N, M = test.shape\n",
    "mean_time = 0\n",
    "\n",
    "expected_number_target = len(test[test['Classification'] == target])\n",
    "expected_number_non_target = N - expected_number_target\n",
    "result = {\n",
    "    'amyloid': 0,\n",
    "    'non-amyloid': 0\n",
    "}\n",
    "y_out = []\n",
    "for i in range(N):\n",
    "    seguence = test.iloc[i]['Sequence']\n",
    "    c = test.iloc[i]['Classification']\n",
    "\n",
    "    seguence += '+'\n",
    "    begin = datetime.datetime.now()\n",
    "    token = dawg_alg_afd.in_automato_language(seguence)\n",
    "    finish = datetime.datetime.now()\n",
    "\n",
    "    mean_time += (finish - begin).microseconds\n",
    "    if token:\n",
    "        if c == target:\n",
    "            result[target] += 1\n",
    "        y_out.append(target)\n",
    "    elif not token:\n",
    "        if c != target:\n",
    "            result['non-amyloid'] += 1\n",
    "        y_out.append('non-amyloid')\n",
    "print(result)\n",
    "print(expected_number_target)\n",
    "print(expected_number_non_target)\n",
    "print(\"mean Time per string in afnd: \", mean_time/N )\n"
   ],
   "metadata": {
    "collapsed": false,
    "pycharm": {
     "name": "#%%\n"
    }
   }
  },
  {
   "cell_type": "markdown",
   "source": [
    "<h2>3.1 Testando com 10, 20, .. ate 1000 strings do conjunto de teste e verificando tempo</h2>"
   ],
   "metadata": {
    "collapsed": false,
    "pycharm": {
     "name": "#%% md\n"
    }
   }
  },
  {
   "cell_type": "code",
   "execution_count": null,
   "outputs": [],
   "source": [
    "# c = 'amyloid'\n",
    "# time_test = []\n",
    "# range_test = np.arange(1000, 1000000, 100000)\n",
    "# for number_words in range_test:\n",
    "#     mean_time = 0\n",
    "#     word_plus_to_use = ['AGVNYF+']*number_words\n",
    "#     print(type(word_plus_to_use[0]))\n",
    "#     for i in range(number_words):\n",
    "#         begin = datetime.datetime.now()\n",
    "#         token = dawg_alg.in_automato_language(word_plus_to_use[i])\n",
    "#         finish = datetime.datetime.now()\n",
    "#         mean_time += (finish - begin).microseconds\n",
    "#\n",
    "#     time_test.append(mean_time/number_words)"
   ],
   "metadata": {
    "collapsed": false,
    "pycharm": {
     "name": "#%%\n"
    }
   }
  },
  {
   "cell_type": "code",
   "execution_count": null,
   "outputs": [],
   "source": [
    "# plt.plot(range_test, sorted(time_test))\n",
    "# plt.show()"
   ],
   "metadata": {
    "collapsed": false,
    "pycharm": {
     "name": "#%%\n"
    }
   }
  },
  {
   "cell_type": "code",
   "execution_count": null,
   "outputs": [],
   "source": [
    "# range_test\n"
   ],
   "metadata": {
    "collapsed": false,
    "pycharm": {
     "name": "#%%\n"
    }
   }
  },
  {
   "cell_type": "code",
   "execution_count": null,
   "outputs": [],
   "source": [
    "# sorted(time_test)"
   ],
   "metadata": {
    "collapsed": false,
    "pycharm": {
     "name": "#%%\n"
    }
   }
  }
 ],
 "metadata": {
  "kernelspec": {
   "display_name": "Python 3",
   "language": "python",
   "name": "python3"
  },
  "language_info": {
   "codemirror_mode": {
    "name": "ipython",
    "version": 3
   },
   "file_extension": ".py",
   "mimetype": "text/x-python",
   "name": "python",
   "nbconvert_exporter": "python",
   "pygments_lexer": "ipython3",
   "version": "3.7.4"
  }
 },
 "nbformat": 4,
 "nbformat_minor": 4
}