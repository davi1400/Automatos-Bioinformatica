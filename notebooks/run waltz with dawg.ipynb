{
 "cells": [
  {
   "cell_type": "code",
   "execution_count": 1,
   "metadata": {},
   "outputs": [],
   "source": [
    "import os\n",
    "import sys\n",
    "import pandas as pd\n",
    "import numpy as np\n",
    "\n",
    "from DAWG.DAWG import dawg\n",
    "from utils.utils import get_project_root\n",
    "from automatos.conversion.conversor import conversor\n",
    "from sklearn.metrics import *"
   ]
  },
  {
   "cell_type": "markdown",
   "metadata": {
    "pycharm": {
     "name": "#%% md\n"
    }
   },
   "source": [
    "<h1>1. Introdução</h1>\n"
   ]
  },
  {
   "cell_type": "markdown",
   "metadata": {},
   "source": [
    "<h2>1.1 Conjunto de dados</h2>\n",
    "\n",
    "<p>Para este trabalho foram utilizados dois conjuntos de dados, um para o\n",
    "   treino(construção do dawg) e outra para as inferencias(teste), os conjuntos\n",
    "   foram:</p>\n",
    "\n",
    "   - **waltz.txt** para construção do dawg\n",
    "   - **waltzdb.csv** para as inferências gramaticais\n",
    "\n",
    "<p>Vale ressaltar que o conjunto de teste, contem dados de sequencias, na qual cada uma contem uma\n",
    "   classificação, podendo ser amyloid ou non-amyloid.</p>"
   ]
  },
  {
   "cell_type": "markdown",
   "metadata": {
    "pycharm": {
     "name": "#%% md\n"
    }
   },
   "source": [
    "<h2>1.2 leitura dos dados</h2>"
   ]
  },
  {
   "cell_type": "code",
   "execution_count": 2,
   "outputs": [],
   "source": [
    "train_path = get_project_root() + '/Automatos-Bioinformatica/datasets/' + 'waltz.txt'\n",
    "train = pd.read_csv(train_path, header=None)\n",
    "\n",
    "test_path = get_project_root() + '/Automatos-Bioinformatica/datasets/' + 'waltzdb.csv'\n",
    "test = pd.read_csv(test_path)"
   ],
   "metadata": {
    "collapsed": false,
    "pycharm": {
     "name": "#%%\n"
    }
   }
  },
  {
   "cell_type": "markdown",
   "source": [
    "<h2>1.3 Divisão do treino em palavras positivas e negativas</h2>\n",
    "\n",
    "<p>No conjunto de treino, existem dois tipos de sequencia(string), as positivas e as negativas\n",
    "    de acordo com o algoritmo de criação de dawg em\n",
    "<a href=\"http://proceedings.mlr.press/v34/wieczorek14a.pdf\">wieczorek14a</a>, logo é necessario dividir o conjunto\n",
    " de treino em strings positivas e outras.</p>"
   ],
   "metadata": {
    "collapsed": false,
    "pycharm": {
     "name": "#%% md\n"
    }
   }
  },
  {
   "cell_type": "code",
   "execution_count": 3,
   "outputs": [],
   "source": [
    "plus_words = []\n",
    "negative_words = []\n",
    "for i in range(len(train)):\n",
    "    if '\\t+' in train.iloc[i][0]:\n",
    "        w = train.iloc[i][0]\n",
    "        plus_words.append(w[:len(w) - len('\\t+')])\n",
    "    else:\n",
    "        negative_words.append(train.iloc[i][0])"
   ],
   "metadata": {
    "collapsed": false,
    "pycharm": {
     "name": "#%%\n"
    }
   }
  },
  {
   "cell_type": "markdown",
   "source": [
    "<h1>2. Desenvolvimento do dawg com não determinismo</h1>"
   ],
   "metadata": {
    "collapsed": false,
    "pycharm": {
     "name": "#%% md\n"
    }
   }
  },
  {
   "cell_type": "code",
   "source": [
    "print(\"Treino\")\n",
    "dawg_alg = dawg()\n",
    "dawg_alg.create(plus_words, negative_words)"
   ],
   "metadata": {
    "collapsed": false,
    "pycharm": {
     "name": "#%%\n"
    }
   },
   "execution_count": 4,
   "outputs": [
    {
     "name": "stdout",
     "output_type": "stream",
     "text": [
      "Treino\n"
     ]
    }
   ]
  },
  {
   "cell_type": "markdown",
   "source": [
    "<h1>3. Inferência das seguências com dawg não deterministico</h1>"
   ],
   "metadata": {
    "collapsed": false,
    "pycharm": {
     "name": "#%% md\n"
    }
   }
  },
  {
   "cell_type": "code",
   "execution_count": 5,
   "outputs": [
    {
     "name": "stdout",
     "output_type": "stream",
     "text": [
      "{'amyloid': 121, 'non-amyloid': 811}\n",
      "244\n",
      "845\n"
     ]
    }
   ],
   "source": [
    "target = 'amyloid'\n",
    "N, M = test.shape\n",
    "\n",
    "expected_number_target = len(test[test['Classification'] == target])\n",
    "expected_number_non_target = N - expected_number_target\n",
    "result = {\n",
    "    'amyloid': 0,\n",
    "    'non-amyloid': 0\n",
    "}\n",
    "y_out = []\n",
    "for i in range(N):\n",
    "    seguence = test.iloc[i]['Sequence']\n",
    "    c = test.iloc[i]['Classification']\n",
    "\n",
    "    seguence += '+'\n",
    "    token = dawg_alg.in_automato_language(seguence)\n",
    "    if token:\n",
    "        if c == target:\n",
    "            result[target] += 1\n",
    "        y_out.append(target)\n",
    "    elif not token:\n",
    "        if c != target:\n",
    "            result['non-amyloid'] += 1\n",
    "        y_out.append('non-amyloid')\n",
    "print(result)\n",
    "print(expected_number_target)\n",
    "print(expected_number_non_target)"
   ],
   "metadata": {
    "collapsed": false,
    "pycharm": {
     "name": "#%%\n"
    }
   }
  },
  {
   "cell_type": "markdown",
   "source": [
    "<h2>3.1 Calculando acurácia, precisão e recall</h2>"
   ],
   "metadata": {
    "collapsed": false,
    "pycharm": {
     "name": "#%% md\n"
    }
   }
  },
  {
   "cell_type": "code",
   "execution_count": 6,
   "outputs": [
    {
     "name": "stdout",
     "output_type": "stream",
     "text": [
      "ACC: 0.8558310376492194\n",
      "R: 0.7806451612903226\n",
      "P: 0.4959016393442623\n"
     ]
    }
   ],
   "source": [
    "y_test = test['Classification'].to_numpy()\n",
    "\n",
    "y_out = np.array(y_out)\n",
    "print('ACC:', str(accuracy_score(y_out, y_test)))\n",
    "print('R:', str(recall_score(y_out, y_test, average='binary', pos_label=\"amyloid\")))\n",
    "print('P:', str(precision_score(y_out, y_test, average='binary', pos_label=\"amyloid\")))\n"
   ],
   "metadata": {
    "collapsed": false,
    "pycharm": {
     "name": "#%%\n"
    }
   }
  },
  {
   "cell_type": "markdown",
   "source": [],
   "metadata": {
    "collapsed": false,
    "pycharm": {
     "name": "#%% md\n"
    }
   }
  },
  {
   "cell_type": "code",
   "execution_count": 16,
   "outputs": [
    {
     "ename": "AttributeError",
     "evalue": "'AtlasView' object has no attribute 'update'",
     "output_type": "error",
     "traceback": [
      "\u001B[0;31m---------------------------------------------------------------------------\u001B[0m",
      "\u001B[0;31mAttributeError\u001B[0m                            Traceback (most recent call last)",
      "\u001B[0;32m<ipython-input-16-b66404a7a3ec>\u001B[0m in \u001B[0;36m<module>\u001B[0;34m\u001B[0m\n\u001B[1;32m      1\u001B[0m \u001B[0mconv\u001B[0m \u001B[0;34m=\u001B[0m \u001B[0mconversor\u001B[0m\u001B[0;34m(\u001B[0m\u001B[0;34m)\u001B[0m\u001B[0;34m\u001B[0m\u001B[0;34m\u001B[0m\u001B[0m\n\u001B[0;32m----> 2\u001B[0;31m \u001B[0mconv\u001B[0m\u001B[0;34m.\u001B[0m\u001B[0m_to_deterministic\u001B[0m\u001B[0;34m(\u001B[0m\u001B[0mdawg_alg\u001B[0m\u001B[0;34m)\u001B[0m\u001B[0;34m\u001B[0m\u001B[0;34m\u001B[0m\u001B[0m\n\u001B[0m",
      "\u001B[0;32m~/PycharmProjects/Automatos-Bioinformatica/automatos/conversion/conversor.py\u001B[0m in \u001B[0;36m_to_deterministic\u001B[0;34m(self, automata)\u001B[0m\n\u001B[1;32m    117\u001B[0m \u001B[0;34m\u001B[0m\u001B[0m\n\u001B[1;32m    118\u001B[0m         \u001B[0;31m# Creating the states\u001B[0m\u001B[0;34m\u001B[0m\u001B[0;34m\u001B[0m\u001B[0;34m\u001B[0m\u001B[0m\n\u001B[0;32m--> 119\u001B[0;31m         \u001B[0mself\u001B[0m\u001B[0;34m.\u001B[0m\u001B[0mcreate_deterministic_automata\u001B[0m\u001B[0;34m(\u001B[0m\u001B[0;34m)\u001B[0m\u001B[0;34m\u001B[0m\u001B[0;34m\u001B[0m\u001B[0m\n\u001B[0m\u001B[1;32m    120\u001B[0m \u001B[0;34m\u001B[0m\u001B[0m\n\u001B[1;32m    121\u001B[0m \u001B[0;34m\u001B[0m\u001B[0m\n",
      "\u001B[0;32m~/PycharmProjects/Automatos-Bioinformatica/automatos/conversion/conversor.py\u001B[0m in \u001B[0;36mcreate_deterministic_automata\u001B[0;34m(self)\u001B[0m\n\u001B[1;32m     34\u001B[0m \u001B[0;34m\u001B[0m\u001B[0m\n\u001B[1;32m     35\u001B[0m     \u001B[0;32mdef\u001B[0m \u001B[0mcreate_deterministic_automata\u001B[0m\u001B[0;34m(\u001B[0m\u001B[0mself\u001B[0m\u001B[0;34m)\u001B[0m\u001B[0;34m:\u001B[0m\u001B[0;34m\u001B[0m\u001B[0;34m\u001B[0m\u001B[0m\n\u001B[0;32m---> 36\u001B[0;31m         \u001B[0mself\u001B[0m\u001B[0;34m.\u001B[0m\u001B[0mcreate_states\u001B[0m\u001B[0;34m(\u001B[0m\u001B[0;34m)\u001B[0m\u001B[0;34m\u001B[0m\u001B[0;34m\u001B[0m\u001B[0m\n\u001B[0m\u001B[1;32m     37\u001B[0m \u001B[0;34m\u001B[0m\u001B[0m\n\u001B[1;32m     38\u001B[0m     \u001B[0;32mdef\u001B[0m \u001B[0mis_reacheble\u001B[0m\u001B[0;34m(\u001B[0m\u001B[0mself\u001B[0m\u001B[0;34m,\u001B[0m \u001B[0mstate\u001B[0m\u001B[0;34m,\u001B[0m \u001B[0mreachebles\u001B[0m\u001B[0;34m)\u001B[0m\u001B[0;34m:\u001B[0m\u001B[0;34m\u001B[0m\u001B[0;34m\u001B[0m\u001B[0m\n",
      "\u001B[0;32m~/PycharmProjects/Automatos-Bioinformatica/automatos/conversion/conversor.py\u001B[0m in \u001B[0;36mcreate_states\u001B[0;34m(self)\u001B[0m\n\u001B[1;32m     18\u001B[0m         \u001B[0;32mfor\u001B[0m \u001B[0mi\u001B[0m \u001B[0;32min\u001B[0m \u001B[0mrange\u001B[0m\u001B[0;34m(\u001B[0m\u001B[0mlen\u001B[0m\u001B[0;34m(\u001B[0m\u001B[0mself\u001B[0m\u001B[0;34m.\u001B[0m\u001B[0mtranstion_table_afd\u001B[0m\u001B[0;34m.\u001B[0m\u001B[0mkeys\u001B[0m\u001B[0;34m(\u001B[0m\u001B[0;34m)\u001B[0m\u001B[0;34m)\u001B[0m\u001B[0;34m)\u001B[0m\u001B[0;34m:\u001B[0m\u001B[0;34m\u001B[0m\u001B[0;34m\u001B[0m\u001B[0m\n\u001B[1;32m     19\u001B[0m             \u001B[0mself\u001B[0m\u001B[0;34m.\u001B[0m\u001B[0mafd\u001B[0m\u001B[0;34m.\u001B[0m\u001B[0madd_state\u001B[0m\u001B[0;34m(\u001B[0m\u001B[0mcode\u001B[0m \u001B[0;34m+\u001B[0m \u001B[0mstr\u001B[0m\u001B[0;34m(\u001B[0m\u001B[0mi\u001B[0m\u001B[0;34m)\u001B[0m\u001B[0;34m)\u001B[0m\u001B[0;34m\u001B[0m\u001B[0;34m\u001B[0m\u001B[0m\n\u001B[0;32m---> 20\u001B[0;31m             \u001B[0mself\u001B[0m\u001B[0;34m.\u001B[0m\u001B[0mafd\u001B[0m\u001B[0;34m.\u001B[0m\u001B[0mset_state_attributes\u001B[0m\u001B[0;34m(\u001B[0m\u001B[0mcode\u001B[0m \u001B[0;34m+\u001B[0m \u001B[0mstr\u001B[0m\u001B[0;34m(\u001B[0m\u001B[0mi\u001B[0m\u001B[0;34m)\u001B[0m\u001B[0;34m,\u001B[0m \u001B[0;34m'old_name_state'\u001B[0m\u001B[0;34m,\u001B[0m \u001B[0mlist\u001B[0m\u001B[0;34m(\u001B[0m\u001B[0mself\u001B[0m\u001B[0;34m.\u001B[0m\u001B[0mtranstion_table_afd\u001B[0m\u001B[0;34m.\u001B[0m\u001B[0mkeys\u001B[0m\u001B[0;34m(\u001B[0m\u001B[0;34m)\u001B[0m\u001B[0;34m)\u001B[0m\u001B[0;34m[\u001B[0m\u001B[0mi\u001B[0m\u001B[0;34m]\u001B[0m\u001B[0;34m)\u001B[0m\u001B[0;34m\u001B[0m\u001B[0;34m\u001B[0m\u001B[0m\n\u001B[0m\u001B[1;32m     21\u001B[0m \u001B[0;34m\u001B[0m\u001B[0m\n\u001B[1;32m     22\u001B[0m             \u001B[0;31m# verify if is the initial state\u001B[0m\u001B[0;34m\u001B[0m\u001B[0;34m\u001B[0m\u001B[0;34m\u001B[0m\u001B[0m\n",
      "\u001B[0;32m~/PycharmProjects/Automatos-Bioinformatica/automatos/deterministicos/AFD.py\u001B[0m in \u001B[0;36mset_state_attributes\u001B[0;34m(self, state, attribute_name, value)\u001B[0m\n\u001B[1;32m     39\u001B[0m         \u001B[0;34m:\u001B[0m\u001B[0;32mreturn\u001B[0m\u001B[0;34m:\u001B[0m\u001B[0;34m\u001B[0m\u001B[0;34m\u001B[0m\u001B[0m\n\u001B[1;32m     40\u001B[0m         \"\"\"\n\u001B[0;32m---> 41\u001B[0;31m         \u001B[0mprint\u001B[0m\u001B[0;34m(\u001B[0m\u001B[0mself\u001B[0m\u001B[0;34m.\u001B[0m\u001B[0mgraph\u001B[0m\u001B[0;34m.\u001B[0m\u001B[0mnodes\u001B[0m\u001B[0;34m)\u001B[0m\u001B[0;34m\u001B[0m\u001B[0;34m\u001B[0m\u001B[0m\n\u001B[0m\u001B[1;32m     42\u001B[0m         \u001B[0mself\u001B[0m\u001B[0;34m.\u001B[0m\u001B[0mgraph\u001B[0m\u001B[0;34m.\u001B[0m\u001B[0mnodes\u001B[0m\u001B[0;34m[\u001B[0m\u001B[0mstate\u001B[0m\u001B[0;34m]\u001B[0m\u001B[0;34m.\u001B[0m\u001B[0mupdate\u001B[0m\u001B[0;34m(\u001B[0m\u001B[0;34m{\u001B[0m\u001B[0mattribute_name\u001B[0m\u001B[0;34m:\u001B[0m \u001B[0mvalue\u001B[0m\u001B[0;34m}\u001B[0m\u001B[0;34m)\u001B[0m\u001B[0;34m\u001B[0m\u001B[0;34m\u001B[0m\u001B[0m\n\u001B[1;32m     43\u001B[0m \u001B[0;34m\u001B[0m\u001B[0m\n",
      "\u001B[0;31mAttributeError\u001B[0m: 'AtlasView' object has no attribute 'update'"
     ]
    }
   ],
   "source": [
    "conv = conversor()\n",
    "conv._to_deterministic(dawg_alg)"
   ],
   "metadata": {
    "collapsed": false,
    "pycharm": {
     "name": "#%%\n"
    }
   }
  }
 ],
 "metadata": {
  "kernelspec": {
   "display_name": "Python 3",
   "language": "python",
   "name": "python3"
  },
  "language_info": {
   "codemirror_mode": {
    "name": "ipython",
    "version": 3
   },
   "file_extension": ".py",
   "mimetype": "text/x-python",
   "name": "python",
   "nbconvert_exporter": "python",
   "pygments_lexer": "ipython3",
   "version": "3.7.4"
  }
 },
 "nbformat": 4,
 "nbformat_minor": 4
}